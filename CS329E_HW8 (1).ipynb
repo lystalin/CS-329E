{
 "cells": [
  {
   "cell_type": "markdown",
   "metadata": {
    "id": "Pc0-tdC10va6"
   },
   "source": [
    "## C S 329E HW7\n",
    "\n",
    "# Ensemble Methods and Skewed Data\n",
    "\n",
    "## Jazmin Reyna\n",
    "\n",
    "For this week's homework we are going explore two ensemble methods:\n",
    "\n",
    "  - AdaBoost, and\n",
    "  - Random Forests\n",
    "  \n",
    "Along with applying different KPIs (key performance indicators) that are more appropriate to highly skewed data sets. \n",
    "\n",
    "The dataset contains transactions made by credit cards in September 2013 by european cardholders.\n",
    "This dataset presents transactions that occurred in two days, where we have 237 frauds out of 142,167 transactions. The dataset is highly unbalanced, the positive class (frauds) account for 0.17% of all transactions.\n",
    "\n",
    "It contains only numerical input variables which are the result of a [PCA transformation](https://en.wikipedia.org/wiki/Principal_component_analysis). Unfortunately, due to confidentiality issues, they cannot provide the original features and more background information about the data. Features V1, V2, … V28 are the principal components obtained with PCA, the only features which have not been transformed with PCA are 'Time' and 'Amount'. Feature 'Time' contains the seconds elapsed between each transaction and the first transaction in the dataset. The feature 'Amount' is the transaction Amount in Euros. Feature 'Class' is the response variable and it takes value 1 in case of fraud and 0 otherwise.\n",
    "\n",
    "At the end of this homework, I expect you to understand how to train and use ensemble classifiers, how to characterize model performance with ROC curves, and be familiar with the difference between accuracy, true positive rate, and positive predictive value. "
   ]
  },
  {
   "cell_type": "code",
   "execution_count": 1,
   "metadata": {
    "executionInfo": {
     "elapsed": 9893,
     "status": "ok",
     "timestamp": 1634656012870,
     "user": {
      "displayName": "Yan Zheng",
      "photoUrl": "https://lh3.googleusercontent.com/a/default-user=s64",
      "userId": "11686319969188743405"
     },
     "user_tz": 300
    },
    "id": "AIIG_Qv30va_"
   },
   "outputs": [],
   "source": [
    "# These are the libraries you will use for this assignment, you may not import anything else\n",
    "import pandas as pd\n",
    "import numpy as np\n",
    "import matplotlib.pyplot as plt\n",
    "from sklearn.ensemble import AdaBoostClassifier\n",
    "from sklearn.ensemble import RandomForestClassifier\n",
    "from sklearn.model_selection import StratifiedKFold\n",
    "from sklearn.metrics import roc_curve\n",
    "\n",
    "# This is the credit card data provided, we'll use sklearn methods to do cross validation\n",
    "# to estimate error\n",
    "df_cc = pd.read_csv('https://www.cs.utexas.edu/~chaney/cc.csv')"
   ]
  },
  {
   "cell_type": "markdown",
   "metadata": {
    "id": "sV8Lw-Xc0vbA"
   },
   "source": [
    "## Q1 Parition the data for cross validation\n",
    "\n",
    "Load the data, and split the data set into $X$ (the feature dataframe, `df_X`) and $y$ (the target series `s_y`). Define our partitions.  \n",
    "\n",
    "We know this is a _super_ skewed data set, so we worry about our target class being underrepresented in a random k-fold selection. With this in mind, we use a [stratifed k-fold](https://scikit-learn.org/stable/modules/generated/sklearn.model_selection.StratifiedKFold.html), since it will preserve our class balance in our experiements. Use $k=3$, . Instantiate an instance of the `StratifiedKFold` class, and use the generator `split` to populate the following dictonaries:\n",
    "   - `d_train_df_X` : where the key is the fold number, and the value is the attribute training dataframe at that fold\n",
    "   - `d_test_df_X`  : where the key is the fold number, and the value is the attribute test dataframe at that fold\n",
    "   - `d_train_s_y`  : where the key is the fold number, and the value is the target training series at that fold\n",
    "   - `d_train_s_y`  : where the key is the fold number, and the value is the target test series at that fold"
   ]
  },
  {
   "cell_type": "code",
   "execution_count": 2,
   "metadata": {
    "executionInfo": {
     "elapsed": 341,
     "status": "ok",
     "timestamp": 1634656043634,
     "user": {
      "displayName": "Yan Zheng",
      "photoUrl": "https://lh3.googleusercontent.com/a/default-user=s64",
      "userId": "11686319969188743405"
     },
     "user_tz": 300
    },
    "id": "3sHfNAci0vbA"
   },
   "outputs": [],
   "source": [
    "df_X = df_cc.drop(columns=['Class'])\n",
    "s_y = df_cc['Class']"
   ]
  },
  {
   "cell_type": "code",
   "execution_count": 3,
   "metadata": {
    "id": "p8K4LLES0vbB"
   },
   "outputs": [],
   "source": [
    "skf = StratifiedKFold(n_splits=3,shuffle=True,random_state=23)"
   ]
  },
  {
   "cell_type": "code",
   "execution_count": 4,
   "metadata": {
    "id": "xQYF1qLc0vbB"
   },
   "outputs": [],
   "source": [
    "d_train_df_X = dict()\n",
    "d_test_df_X = dict()\n",
    "d_train_s_y = dict()\n",
    "d_test_s_y = dict()\n",
    "\n",
    "# Your code here\n",
    "split = skf.split(df_X, s_y)\n",
    "fold = 1\n",
    "for train_idx, test_idx in split:\n",
    "    d_train_df_X[fold] = df_X.loc[train_idx, :]\n",
    "    d_test_df_X[fold] = df_X.loc[test_idx, :]\n",
    "    s_y_tr = df_cc.loc[train_idx, :]\n",
    "    s_y_t = df_cc.loc[test_idx, :]\n",
    "    d_train_s_y[fold] = s_y_tr['Class']\n",
    "    d_test_s_y[fold] = s_y_t['Class']\n",
    "    fold += 1"
   ]
  },
  {
   "cell_type": "code",
   "execution_count": 5,
   "metadata": {
    "id": "WKyVrDi30vbC",
    "scrolled": true
   },
   "outputs": [
    {
     "name": "stdout",
     "output_type": "stream",
     "text": [
      "0    47389\n",
      "1       79\n",
      "Name: Class, dtype: int64\n",
      "0    47389\n",
      "1       79\n",
      "Name: Class, dtype: int64\n",
      "0    47389\n",
      "1       79\n",
      "Name: Class, dtype: int64\n"
     ]
    }
   ],
   "source": [
    "# Look at the test data and verify that the target training is equally distributed as possible\n",
    "for key in d_test_s_y.keys():\n",
    "    print(d_test_s_y[key].value_counts())"
   ]
  },
  {
   "cell_type": "markdown",
   "metadata": {
    "id": "RgKTCPZn0vbC"
   },
   "source": [
    "## Section 1 - AdaBoost"
   ]
  },
  {
   "cell_type": "markdown",
   "metadata": {
    "id": "aBiszvo40vbD"
   },
   "source": [
    "# Q2 Test the Performance of AdaBoost\n",
    "\n",
    "When we talked about AdaBoost in class, we used a collection of \"Decision Stumps\". In this assignment, we will use the implementation of [AdaBoost in Scikit-learn](https://scikit-learn.org/stable/modules/generated/sklearn.ensemble.AdaBoostClassifier.html).  As you browse the documentation, you will notice that the default base esimator in this implentation is a `DecisionTreeClassifier(max_depth=1)` (our friend the decision stump). \n",
    "\n",
    "After you fit an AdaBoost model, you can call the method `predict` to get a class prediction, or you can call `predict_proba` to get the probability of being in the class `0` or the class `1`. These probabilities are used when creating ROC curves. \n",
    "\n",
    "Loop over the $k$ folds using the dictionaries from the first problem, and for each fold calculate the accuracy, TPR, the PPV, and the FPR (feel free to create helper functions to calcuate these metrics - do not use a library function to compute these metrics).  Plot the ROC curve for each fold. You may use the [plot roc curve](https://scikit-learn.org/stable/modules/generated/sklearn.metrics.plot_roc_curve.html) from Scikit-learn.  There is a great example in the documentation [on plotting ROC curves in cross validation](https://scikit-learn.org/stable/auto_examples/model_selection/plot_roc_crossval.html) that is helpful.  \n",
    "\n",
    "When creating your AdaBoost classifier, please use the following parameters: \n",
    "`AdaBoostClassifier(n_estimators=25, random_state=23)`\n",
    "\n",
    "Save the predictions from the 3rd fold into a variable called `y_hat_ab` for use in a future problem.\n"
   ]
  },
  {
   "cell_type": "code",
   "execution_count": 6,
   "metadata": {
    "id": "1CH_Ec9G0vbD"
   },
   "outputs": [],
   "source": [
    "k = 3\n",
    "acc_ab = np.zeros(k)\n",
    "tpr_ab = np.zeros(k)\n",
    "ppv_ab = np.zeros(k)\n",
    "fpr_ab = np.zeros(k)"
   ]
  },
  {
   "cell_type": "code",
   "execution_count": 7,
   "metadata": {
    "id": "3pE-HrIv0vbE"
   },
   "outputs": [
    {
     "data": {
      "image/png": "[encoded data removed]",
      "text/plain": [
       "<Figure size 640x480 with 1 Axes>"
      ]
     },
     "metadata": {},
     "output_type": "display_data"
    }
   ],
   "source": [
    "# your code here\n",
    "# clf = AdaBoostClassifier(n_estimators=25, random_state=23)\n",
    "# clf.fit(df_X, s_y)\n",
    "# clf\n",
    "def get_acc(x, y):\n",
    "    return np.sum(x == y)/len(x)\n",
    "\n",
    "for i in d_train_df_X.keys():\n",
    "    ab_clf = AdaBoostClassifier(n_estimators=25, random_state=23)\n",
    "    ab_clf = ab_clf.fit(d_train_df_X[i], d_train_s_y[i])\n",
    "    \n",
    "    ab_scores = ab_clf.predict(d_test_df_X[i])\n",
    "    ab_scores_prb = ab_clf.predict_proba(d_test_df_X[i])[:, 1]\n",
    "    \n",
    "    acc = get_acc(d_test_s_y[i], ab_scores)\n",
    "    acc_ab[i-1] = acc\n",
    "    \n",
    "    tp = np.sum((d_test_s_y[i] == 1) & (ab_scores == 1))\n",
    "    fp = np.sum((d_test_s_y[i] == 0) & (ab_scores == 1))\n",
    "    tn = np.sum((d_test_s_y[i] == 0) & (ab_scores == 0))\n",
    "    fn = np.sum((d_test_s_y[i] == 1) & (ab_scores == 0))\n",
    "    \n",
    "    tpr_ab[i-1] = tp / (tp + fn)\n",
    "    ppv_ab[i-1] = tp / (tp + fp)\n",
    "    fpr_ab[i-1] = fp / (fp + tn)\n",
    "    \n",
    "    fpr, tpr, threshold = roc_curve(d_test_s_y[i], ab_scores_prb)\n",
    "    plt.plot(fpr, tpr, label = 'Fold ' + str(i))\n",
    "    \n",
    "    if i == 3:\n",
    "        y_hat_ab = ab_scores\n",
    "    \n",
    "plt.title('ROC curve for 3 folds using AdaBoost')\n",
    "plt.xlabel('False Positive Rate')\n",
    "plt.ylabel('True Positive Rate')\n",
    "plt.legend()\n",
    "plt.show()"
   ]
  },
  {
   "cell_type": "code",
   "execution_count": 8,
   "metadata": {
    "id": "TbQKtc_K0vbE"
   },
   "outputs": [
    {
     "name": "stdout",
     "output_type": "stream",
     "text": [
      "The min, mean, and max TPR are: 0.62, 0.65, and 0.71\n",
      "The min, mean, and max PPV are: 0.75, 0.79, and 0.82\n",
      "The min, mean, and max ACC are: 1.00, 1.00, and 1.00\n"
     ]
    }
   ],
   "source": [
    "print('The min, mean, and max TPR are: {:.2f}, {:.2f}, and {:.2f}'.format(tpr_ab.min(), tpr_ab.mean(), tpr_ab.max()))\n",
    "print('The min, mean, and max PPV are: {:.2f}, {:.2f}, and {:.2f}'.format(ppv_ab.min(), ppv_ab.mean(), ppv_ab.max()))\n",
    "print('The min, mean, and max ACC are: {:.2f}, {:.2f}, and {:.2f}'.format(acc_ab.min(), acc_ab.mean(), acc_ab.max()))"
   ]
  },
  {
   "cell_type": "markdown",
   "metadata": {
    "id": "6B3UIBCC0vbE"
   },
   "source": [
    "## Q3 Test the Performance of Random Forests\n",
    "\n",
    "Now, let's try another ensemble method: Random Forests, again using the [Scikit-learn implementation](https://scikit-learn.org/stable/modules/generated/sklearn.ensemble.RandomForestClassifier.html). \n",
    "\n",
    "Following our book, we will build complete trees, with no pruning.  That means every leaf in the tree will be completelely pure, and if you exam an individual Decision Tree it would be overtrained to our training set.  While building the decision trees, at every internal node, we select $p$ attributes at random, and then find the best split that minimizes impurtity.  The value, $p$, is a hyperparamter of the Random Forest and corresponds to the `max_features` parameter in the Random Forest Class. \n",
    "\n",
    "After you fit an RandomForest model, you can call the method `predict` to get a class prediction, or you can call `predict_proba` to get the probability of being in the class `0` or the class `1`. These probabilities are used when creating ROC curves. \n",
    "\n",
    "Loop over the $k$ folds using the dictionaries from the first problem, and for each fold calculate the accuracy, TPR, the PPV, and the FPR (feel free to reuse the functions that you already wrote to calculate these values - do not use a library function to compute these metrics).  Plot the ROC curve for each fold. You may use the [roc curve](https://scikit-learn.org/stable/modules/generated/sklearn.metrics.roc_curve.html) from Scikit-learn. There is a great example in the documentation [on plotting ROC curves in cross validation](https://scikit-learn.org/stable/auto_examples/model_selection/plot_roc_crossval.html) that is helpful.  \n",
    "\n",
    "When creating your Random Forest classifier, please use the following parameters: \n",
    "`RandomForestClassifier(criterion=\"entropy\", max_features=\"sqrt\", random_state=23)`\n",
    "\n",
    "Save the predictions from the 3rd fold into a variable called `y_hat_rf` for use in a future problem."
   ]
  },
  {
   "cell_type": "code",
   "execution_count": 9,
   "metadata": {
    "id": "knZax5_10vbE"
   },
   "outputs": [],
   "source": [
    "k = 3\n",
    "acc_rf = np.zeros(k)\n",
    "tpr_rf = np.zeros(k)\n",
    "ppv_rf = np.zeros(k)\n",
    "fpr_rf = np.zeros(k)"
   ]
  },
  {
   "cell_type": "code",
   "execution_count": 10,
   "metadata": {
    "id": "SL-uXnC10vbF"
   },
   "outputs": [
    {
     "data": {
      "image/png": "[encoded data removed]",
      "text/plain": [
       "<Figure size 640x480 with 1 Axes>"
      ]
     },
     "metadata": {},
     "output_type": "display_data"
    }
   ],
   "source": [
    "# your code here\n",
    "for i in d_train_df_X.keys():\n",
    "    rf_clf = RandomForestClassifier(criterion=\"entropy\", max_features=\"sqrt\", random_state=23)\n",
    "    rf_clf = rf_clf.fit(d_train_df_X[i], d_train_s_y[i])\n",
    "    \n",
    "    rf_scores = rf_clf.predict(d_test_df_X[i])\n",
    "    rf_scores_prb = rf_clf.predict_proba(d_test_df_X[i])[:, 1]\n",
    "    \n",
    "    acc = get_acc(d_test_s_y[i], rf_scores)\n",
    "    acc_rf[i-1] = acc\n",
    "    \n",
    "    tp = np.sum((d_test_s_y[i] == 1) & (rf_scores == 1))\n",
    "    fp = np.sum((d_test_s_y[i] == 0) & (rf_scores == 1))\n",
    "    tn = np.sum((d_test_s_y[i] == 0) & (rf_scores == 0))\n",
    "    fn = np.sum((d_test_s_y[i] == 1) & (rf_scores == 0))\n",
    "    \n",
    "    tpr_rf[i-1] = tp / (tp + fn)\n",
    "    ppv_rf[i-1] = tp / (tp + fp)\n",
    "    fpr_rf[i-1] = fp / (fp + tn)\n",
    "    \n",
    "    fpr, tpr, threshold = roc_curve(d_test_s_y[i], rf_scores_prb)\n",
    "    plt.plot(fpr, tpr, label = 'Fold ' + str(i))\n",
    "    \n",
    "    if i == 3:\n",
    "        y_hat_rf = rf_scores\n",
    "        \n",
    "plt.title('ROC curve for 3 folds using Random Forests')\n",
    "plt.xlabel('False Positive Rate')\n",
    "plt.ylabel('True Positive Rate')\n",
    "plt.legend()\n",
    "plt.show()"
   ]
  },
  {
   "cell_type": "code",
   "execution_count": 11,
   "metadata": {
    "id": "d5Drp2A20vbF"
   },
   "outputs": [
    {
     "name": "stdout",
     "output_type": "stream",
     "text": [
      "The min, mean, and max TPR are: 0.75, 0.78, and 0.80\n",
      "The min, mean, and max PPV are: 0.92, 0.93, and 0.95\n",
      "The min, mean, and max ACC are: 1.00, 1.00, and 1.00\n"
     ]
    }
   ],
   "source": [
    "print('The min, mean, and max TPR are: {:.2f}, {:.2f}, and {:.2f}'.format(tpr_rf.min(), tpr_rf.mean(), tpr_rf.max()))\n",
    "print('The min, mean, and max PPV are: {:.2f}, {:.2f}, and {:.2f}'.format(ppv_rf.min(), ppv_rf.mean(), ppv_rf.max()))\n",
    "print('The min, mean, and max ACC are: {:.2f}, {:.2f}, and {:.2f}'.format(acc_rf.min(), acc_rf.mean(), acc_rf.max()))"
   ]
  },
  {
   "cell_type": "markdown",
   "metadata": {
    "id": "1XU70_Mf0vbF"
   },
   "source": [
    "# Q4 Calculate the Cost of Fraud \n",
    "\n",
    "In the above problems, we saved the predictions of the 3rd fold into the variables `y_hat_ab` and `y_hat_rf` for the AdaBoost and RandomForest models respectively. \n",
    "\n",
    "Now, Mr. Bank Man wants you to tell him how much money he is going to save if he deploys either of these fraud algorithms to the real-time payment processing system.  Assume that there is not a currently deployed fraud detection algorithm.  \n",
    "\n",
    "For every fraudulent transaction that is not predicted as fraudulent the bank looses twice the value of the transaction.  So, if a fradulent charge for €10 is undectected, it costs the bank €20.  Also, if a charge is predicted as fradulent, but wasn't, it costs the bank a flat fee of €3 in customer service support to communicate with the customer, and mark the possible fraud as a normal transaction. \n",
    "\n",
    "Using the 3rd fold test sample, calculate how much money Mr Bank Man will save by deploying each algorithm, and make a recommendation of which algorithm to deploy to production.  To calculate savings to the bank, you must first calculate the cost of the status quo, which is having no algorithm deployed. "
   ]
  },
  {
   "cell_type": "code",
   "execution_count": 13,
   "metadata": {
    "id": "i5hYCvdK0vbF"
   },
   "outputs": [
    {
     "name": "stdout",
     "output_type": "stream",
     "text": [
      "Random Forest algorithm will save more money\n"
     ]
    }
   ],
   "source": [
    "# create variables for 3rd fold of test data\n",
    "fold = 3\n",
    "test_df_X_3 = d_test_df_X[fold]\n",
    "test_s_y_3 = d_test_s_y[fold]\n",
    "\n",
    "# calculate cost of status quo\n",
    "status_quo_fn = test_df_X_3[test_s_y_3 == 1]\n",
    "status_quo_cost = status_quo_fn['Amount'].sum() * 2\n",
    "\n",
    "# calculate cost of AdaBoost algorithm\n",
    "ab_fn = test_df_X_3[(y_hat_ab == 0) & (test_s_y_3 == 1)]\n",
    "ab_fp = test_df_X_3[(y_hat_ab == 1) & (test_s_y_3 == 0)]\n",
    "ab_cost = (ab_fn['Amount'].sum() * 2) + (3 * len(ab_fp))\n",
    "ab_save = status_quo_cost - ab_cost\n",
    "\n",
    "# calculate cost of Random Forest algorithm\n",
    "rf_fn = test_df_X_3[(y_hat_rf == 0) & (test_s_y_3 == 1)]\n",
    "rf_fp = test_df_X_3[(y_hat_rf == 1) & (test_s_y_3 == 0)]\n",
    "rf_cost = (rf_fn['Amount'].sum() * 2) + (3 * len(rf_fp))\n",
    "rf_save = status_quo_cost - rf_cost\n",
    "\n",
    "if ab_save > rf_save:\n",
    "    print('AdaBoost algorithm will save more money')\n",
    "else:\n",
    "    print('Random Forest algorithm will save more money')"
   ]
  },
  {
   "cell_type": "markdown",
   "metadata": {
    "id": "6x_Zz5Hs0vbF"
   },
   "source": [
    "Mr Bank man will save money, if we deploy the Random Forest algorithm!"
   ]
  }
 ],
 "metadata": {
  "colab": {
   "collapsed_sections": [],
   "name": "CS329E_HW8.ipynb",
   "provenance": []
  },
  "kernelspec": {
   "display_name": "Python 3 (ipykernel)",
   "language": "python",
   "name": "python3"
  },
  "language_info": {
   "codemirror_mode": {
    "name": "ipython",
    "version": 3
   },
   "file_extension": ".py",
   "mimetype": "text/x-python",
   "name": "python",
   "nbconvert_exporter": "python",
   "pygments_lexer": "ipython3",
   "version": "3.9.13"
  }
 },
 "nbformat": 4,
 "nbformat_minor": 1
}
