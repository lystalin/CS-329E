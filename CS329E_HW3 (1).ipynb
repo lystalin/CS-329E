{
 "cells": [
  {
   "cell_type": "markdown",
   "metadata": {},
   "source": [
    "# Homework 3\n",
    "\n",
    "## Pair Programming Group Number: 17\n",
    "## Members of Team: Jazmin Reyna\n",
    "\n",
    "## Feature engineering and linear regression\n",
    "\n",
    "For this week's homework we are going to load in a data set that isn't in the \"cleanest\", repair it, add a feature, do some analysis on the features, build a linear regression model, and use that model to estimate numeric values.  Is linear regression _really_ machine learning? Depends on who you ask, but it is definitely an important tool for data analytics. "
   ]
  },
  {
   "cell_type": "code",
   "execution_count": 1,
   "metadata": {},
   "outputs": [],
   "source": [
    "# only use these libraries\n",
    "import pandas as pd\n",
    "import numpy as np\n",
    "import matplotlib.pyplot as plt\n",
    "\n",
    "## Load in the melb_data_sold_train.csv file here\n",
    "url = 'https://gist.githubusercontent.com/TieJean/797fc6b68b98dc93d9270c1d9b5759d5/raw/a2d467663d9320913ca4b3c52aa75bb20e42988e/melb_data_sold_train.csv/'\n",
    "df = pd.read_csv(url)"
   ]
  },
  {
   "cell_type": "markdown",
   "metadata": {},
   "source": [
    "## Q1 Fix the dataframe to remove any blanks\n",
    "The linear regression needs all attribute and dependent values to be defined.  Use list-wise deletion to remove entries with missing values. Save the modified dataframe with the indices reset to be $0-(length-1)$ into the variable `df1` for use in a later problem. "
   ]
  },
  {
   "cell_type": "code",
   "execution_count": 2,
   "metadata": {},
   "outputs": [],
   "source": [
    "# create a copy of df\n",
    "df1 = df.copy()\n",
    "\n",
    "# drop any rows that have missing values\n",
    "df1 = df1.dropna(axis = 0, how = 'any')\n",
    "\n",
    "# reset the index to\n",
    "df1 = df1.reset_index(drop = True)"
   ]
  },
  {
   "cell_type": "markdown",
   "metadata": {},
   "source": [
    "## Q2 Add a new feature\n",
    "Toorak is known as one of the priciest suburbs in Melbourne.  Create a new column in your dataframe that is the distance in kilometers from the center of Toorak to the latitude/longitude of that row.  Use the latitude / longitude of $(-37.841820, 145.015986)$ for the center of Toorak.  You may assume the Earth is spherical and has radius of $6371.0088$km (check your function ... the property located at $(-37.68178,144.73779)$ is approx 30.2 km away)"
   ]
  },
  {
   "cell_type": "code",
   "execution_count": 3,
   "metadata": {},
   "outputs": [],
   "source": [
    "# Step 1 : Define the Haversine distance as a function\n",
    "# assumes that pt1 and pt2 are 2x1 [lat,long] np arrays that contain locations of the 2 earth coordinates in deg\n",
    "# using the Haversine formula found https://en.wikipedia.org/wiki/Haversine_formula\n",
    "\n",
    "def haversine_distance(pt1,pt2):\n",
    "    # make sure pt1 and pt2 are passed in as degrees (lat,long) and convert to radians before calculation\n",
    "    pt1_r = pt1 * np.pi / 180\n",
    "    pt2_r = pt2 * np.pi / 180\n",
    "    \n",
    "    # set radius\n",
    "    radius = 6371.0088\n",
    "    \n",
    "    # establish variables\n",
    "    sin_arg1 = ((pt2_r[0] - pt1_r[0])/2)\n",
    "    sin_arg2 = ((pt2_r[1] - pt1_r[1])/2)\n",
    "    \n",
    "    arc_sin_arg = np.sqrt((np.sin(sin_arg1)*np.sin(sin_arg1)) + np.cos(pt2_r[0])*np.cos(pt2_r[0])*(np.sin(sin_arg2)*np.sin(sin_arg2)))\n",
    "    \n",
    "    return np.arcsin(arc_sin_arg)*2*radius"
   ]
  },
  {
   "cell_type": "code",
   "execution_count": 4,
   "metadata": {},
   "outputs": [
    {
     "data": {
      "text/plain": [
       "30.26618033336475"
      ]
     },
     "execution_count": 4,
     "metadata": {},
     "output_type": "execute_result"
    }
   ],
   "source": [
    "# A quick check to see if we are getting the expected value\n",
    "toorak_pt = np.array([-37.841820, 145.015986])\n",
    "ot = np.array([-37.68178,144.73779])\n",
    "haversine_distance(toorak_pt, ot)"
   ]
  },
  {
   "cell_type": "code",
   "execution_count": 5,
   "metadata": {},
   "outputs": [],
   "source": [
    "# Step 2 : Add a new column to `df1` called 'distance_to_toorak' that uses the haversine_distance function \n",
    "# to calculate the distance to Toorak for every row in our dataframe. Save the new dataframe as `df2`\n",
    "df2 = df1.copy()\n",
    "df2['distance_to_toorak'] = haversine_distance(toorak_pt, np.array([df2['Lattitude'], df2['Longtitude']]))"
   ]
  },
  {
   "cell_type": "markdown",
   "metadata": {},
   "source": [
    "## Q3 Create a one hot encoding for the categorical column 'Type'\n",
    "Modify the data frame `df2` such that it removes the column for `Type` and replaces it with the appropriate number of columns for a one-hot encoding of the column `Type` and save that dataframe as `df3` for use in a later problem. The pandas method [get_dummies](https://pandas.pydata.org/pandas-docs/stable/reference/api/pandas.get_dummies.html) will be very useful here. "
   ]
  },
  {
   "cell_type": "code",
   "execution_count": 6,
   "metadata": {},
   "outputs": [],
   "source": [
    "# make copy\n",
    "df3 = df2.copy()\n",
    "dummy = pd.get_dummies(df3['Type'], prefix='Type')\n",
    "removed = df3.drop(columns=['Type'])\n",
    "X = pd.concat([dummy, removed], axis=1)\n",
    "df3 = X"
   ]
  },
  {
   "cell_type": "markdown",
   "metadata": {},
   "source": [
    "## Q4 Calculate the pairwise correlations between all of your numeric attributes\n",
    "Use the Pearson correlation as discussed in the lectures to calculate the pairwise correlations between the attributes in the dataframe `df3`. Read the documentation for [corr](https://pandas.pydata.org/pandas-docs/stable/reference/api/pandas.DataFrame.corr.html). "
   ]
  },
  {
   "cell_type": "code",
   "execution_count": 7,
   "metadata": {},
   "outputs": [
    {
     "data": {
      "text/html": [
       "<div>\n",
       "<style scoped>\n",
       "    .dataframe tbody tr th:only-of-type {\n",
       "        vertical-align: middle;\n",
       "    }\n",
       "\n",
       "    .dataframe tbody tr th {\n",
       "        vertical-align: top;\n",
       "    }\n",
       "\n",
       "    .dataframe thead th {\n",
       "        text-align: right;\n",
       "    }\n",
       "</style>\n",
       "<table border=\"1\" class=\"dataframe\">\n",
       "  <thead>\n",
       "    <tr style=\"text-align: right;\">\n",
       "      <th></th>\n",
       "      <th>Type_h</th>\n",
       "      <th>Type_t</th>\n",
       "      <th>Type_u</th>\n",
       "      <th>Rooms</th>\n",
       "      <th>Price</th>\n",
       "      <th>Postcode</th>\n",
       "      <th>Bedroom2</th>\n",
       "      <th>Bathroom</th>\n",
       "      <th>Car</th>\n",
       "      <th>Landsize</th>\n",
       "      <th>BuildingArea</th>\n",
       "      <th>YearBuilt</th>\n",
       "      <th>Lattitude</th>\n",
       "      <th>Longtitude</th>\n",
       "      <th>distance_to_toorak</th>\n",
       "    </tr>\n",
       "  </thead>\n",
       "  <tbody>\n",
       "    <tr>\n",
       "      <th>Type_h</th>\n",
       "      <td>1.000000</td>\n",
       "      <td>-0.484749</td>\n",
       "      <td>-0.778062</td>\n",
       "      <td>0.501128</td>\n",
       "      <td>0.391761</td>\n",
       "      <td>-0.040504</td>\n",
       "      <td>0.484612</td>\n",
       "      <td>0.181773</td>\n",
       "      <td>0.214175</td>\n",
       "      <td>0.047422</td>\n",
       "      <td>0.306231</td>\n",
       "      <td>-0.402670</td>\n",
       "      <td>0.121254</td>\n",
       "      <td>-0.040387</td>\n",
       "      <td>0.221107</td>\n",
       "    </tr>\n",
       "    <tr>\n",
       "      <th>Type_t</th>\n",
       "      <td>-0.484749</td>\n",
       "      <td>1.000000</td>\n",
       "      <td>-0.172282</td>\n",
       "      <td>-0.040762</td>\n",
       "      <td>-0.095295</td>\n",
       "      <td>-0.008546</td>\n",
       "      <td>-0.037366</td>\n",
       "      <td>0.108148</td>\n",
       "      <td>-0.006836</td>\n",
       "      <td>-0.067257</td>\n",
       "      <td>-0.032396</td>\n",
       "      <td>0.331105</td>\n",
       "      <td>-0.028636</td>\n",
       "      <td>0.023603</td>\n",
       "      <td>-0.014197</td>\n",
       "    </tr>\n",
       "    <tr>\n",
       "      <th>Type_u</th>\n",
       "      <td>-0.778062</td>\n",
       "      <td>-0.172282</td>\n",
       "      <td>1.000000</td>\n",
       "      <td>-0.535102</td>\n",
       "      <td>-0.372766</td>\n",
       "      <td>0.051754</td>\n",
       "      <td>-0.518941</td>\n",
       "      <td>-0.282390</td>\n",
       "      <td>-0.236298</td>\n",
       "      <td>-0.005103</td>\n",
       "      <td>-0.321614</td>\n",
       "      <td>0.215689</td>\n",
       "      <td>-0.115991</td>\n",
       "      <td>0.028533</td>\n",
       "      <td>-0.238817</td>\n",
       "    </tr>\n",
       "    <tr>\n",
       "      <th>Rooms</th>\n",
       "      <td>0.501128</td>\n",
       "      <td>-0.040762</td>\n",
       "      <td>-0.535102</td>\n",
       "      <td>1.000000</td>\n",
       "      <td>0.502814</td>\n",
       "      <td>0.054676</td>\n",
       "      <td>0.941684</td>\n",
       "      <td>0.593847</td>\n",
       "      <td>0.401716</td>\n",
       "      <td>0.085676</td>\n",
       "      <td>0.547816</td>\n",
       "      <td>-0.030447</td>\n",
       "      <td>0.012858</td>\n",
       "      <td>0.074846</td>\n",
       "      <td>0.232836</td>\n",
       "    </tr>\n",
       "    <tr>\n",
       "      <th>Price</th>\n",
       "      <td>0.391761</td>\n",
       "      <td>-0.095295</td>\n",
       "      <td>-0.372766</td>\n",
       "      <td>0.502814</td>\n",
       "      <td>1.000000</td>\n",
       "      <td>0.136468</td>\n",
       "      <td>0.480115</td>\n",
       "      <td>0.462985</td>\n",
       "      <td>0.223552</td>\n",
       "      <td>0.064029</td>\n",
       "      <td>0.465598</td>\n",
       "      <td>-0.330560</td>\n",
       "      <td>-0.224400</td>\n",
       "      <td>0.184597</td>\n",
       "      <td>-0.357018</td>\n",
       "    </tr>\n",
       "    <tr>\n",
       "      <th>Postcode</th>\n",
       "      <td>-0.040504</td>\n",
       "      <td>-0.008546</td>\n",
       "      <td>0.051754</td>\n",
       "      <td>0.054676</td>\n",
       "      <td>0.136468</td>\n",
       "      <td>1.000000</td>\n",
       "      <td>0.059311</td>\n",
       "      <td>0.122046</td>\n",
       "      <td>0.034698</td>\n",
       "      <td>0.014276</td>\n",
       "      <td>0.089355</td>\n",
       "      <td>0.035561</td>\n",
       "      <td>-0.445625</td>\n",
       "      <td>0.471934</td>\n",
       "      <td>0.007893</td>\n",
       "    </tr>\n",
       "    <tr>\n",
       "      <th>Bedroom2</th>\n",
       "      <td>0.484612</td>\n",
       "      <td>-0.037366</td>\n",
       "      <td>-0.518941</td>\n",
       "      <td>0.941684</td>\n",
       "      <td>0.480115</td>\n",
       "      <td>0.059311</td>\n",
       "      <td>1.000000</td>\n",
       "      <td>0.594920</td>\n",
       "      <td>0.403840</td>\n",
       "      <td>0.083237</td>\n",
       "      <td>0.532910</td>\n",
       "      <td>-0.010031</td>\n",
       "      <td>0.019970</td>\n",
       "      <td>0.076236</td>\n",
       "      <td>0.241507</td>\n",
       "    </tr>\n",
       "    <tr>\n",
       "      <th>Bathroom</th>\n",
       "      <td>0.181773</td>\n",
       "      <td>0.108148</td>\n",
       "      <td>-0.282390</td>\n",
       "      <td>0.593847</td>\n",
       "      <td>0.462985</td>\n",
       "      <td>0.122046</td>\n",
       "      <td>0.594920</td>\n",
       "      <td>1.000000</td>\n",
       "      <td>0.322266</td>\n",
       "      <td>0.059483</td>\n",
       "      <td>0.470554</td>\n",
       "      <td>0.192470</td>\n",
       "      <td>-0.068643</td>\n",
       "      <td>0.109313</td>\n",
       "      <td>0.051652</td>\n",
       "    </tr>\n",
       "    <tr>\n",
       "      <th>Car</th>\n",
       "      <td>0.214175</td>\n",
       "      <td>-0.006836</td>\n",
       "      <td>-0.236298</td>\n",
       "      <td>0.401716</td>\n",
       "      <td>0.223552</td>\n",
       "      <td>0.034698</td>\n",
       "      <td>0.403840</td>\n",
       "      <td>0.322266</td>\n",
       "      <td>1.000000</td>\n",
       "      <td>0.100686</td>\n",
       "      <td>0.299613</td>\n",
       "      <td>0.153313</td>\n",
       "      <td>-0.007839</td>\n",
       "      <td>0.032915</td>\n",
       "      <td>0.214738</td>\n",
       "    </tr>\n",
       "    <tr>\n",
       "      <th>Landsize</th>\n",
       "      <td>0.047422</td>\n",
       "      <td>-0.067257</td>\n",
       "      <td>-0.005103</td>\n",
       "      <td>0.085676</td>\n",
       "      <td>0.064029</td>\n",
       "      <td>0.014276</td>\n",
       "      <td>0.083237</td>\n",
       "      <td>0.059483</td>\n",
       "      <td>0.100686</td>\n",
       "      <td>1.000000</td>\n",
       "      <td>0.063136</td>\n",
       "      <td>0.028638</td>\n",
       "      <td>0.010734</td>\n",
       "      <td>0.013979</td>\n",
       "      <td>0.041428</td>\n",
       "    </tr>\n",
       "    <tr>\n",
       "      <th>BuildingArea</th>\n",
       "      <td>0.306231</td>\n",
       "      <td>-0.032396</td>\n",
       "      <td>-0.321614</td>\n",
       "      <td>0.547816</td>\n",
       "      <td>0.465598</td>\n",
       "      <td>0.089355</td>\n",
       "      <td>0.532910</td>\n",
       "      <td>0.470554</td>\n",
       "      <td>0.299613</td>\n",
       "      <td>0.063136</td>\n",
       "      <td>1.000000</td>\n",
       "      <td>0.024754</td>\n",
       "      <td>-0.047501</td>\n",
       "      <td>0.084074</td>\n",
       "      <td>0.076654</td>\n",
       "    </tr>\n",
       "    <tr>\n",
       "      <th>YearBuilt</th>\n",
       "      <td>-0.402670</td>\n",
       "      <td>0.331105</td>\n",
       "      <td>0.215689</td>\n",
       "      <td>-0.030447</td>\n",
       "      <td>-0.330560</td>\n",
       "      <td>0.035561</td>\n",
       "      <td>-0.010031</td>\n",
       "      <td>0.192470</td>\n",
       "      <td>0.153313</td>\n",
       "      <td>0.028638</td>\n",
       "      <td>0.024754</td>\n",
       "      <td>1.000000</td>\n",
       "      <td>0.052205</td>\n",
       "      <td>0.023062</td>\n",
       "      <td>0.300216</td>\n",
       "    </tr>\n",
       "    <tr>\n",
       "      <th>Lattitude</th>\n",
       "      <td>0.121254</td>\n",
       "      <td>-0.028636</td>\n",
       "      <td>-0.115991</td>\n",
       "      <td>0.012858</td>\n",
       "      <td>-0.224400</td>\n",
       "      <td>-0.445625</td>\n",
       "      <td>0.019970</td>\n",
       "      <td>-0.068643</td>\n",
       "      <td>-0.007839</td>\n",
       "      <td>0.010734</td>\n",
       "      <td>-0.047501</td>\n",
       "      <td>0.052205</td>\n",
       "      <td>1.000000</td>\n",
       "      <td>-0.366331</td>\n",
       "      <td>0.282005</td>\n",
       "    </tr>\n",
       "    <tr>\n",
       "      <th>Longtitude</th>\n",
       "      <td>-0.040387</td>\n",
       "      <td>0.023603</td>\n",
       "      <td>0.028533</td>\n",
       "      <td>0.074846</td>\n",
       "      <td>0.184597</td>\n",
       "      <td>0.471934</td>\n",
       "      <td>0.076236</td>\n",
       "      <td>0.109313</td>\n",
       "      <td>0.032915</td>\n",
       "      <td>0.013979</td>\n",
       "      <td>0.084074</td>\n",
       "      <td>0.023062</td>\n",
       "      <td>-0.366331</td>\n",
       "      <td>1.000000</td>\n",
       "      <td>-0.239242</td>\n",
       "    </tr>\n",
       "    <tr>\n",
       "      <th>distance_to_toorak</th>\n",
       "      <td>0.221107</td>\n",
       "      <td>-0.014197</td>\n",
       "      <td>-0.238817</td>\n",
       "      <td>0.232836</td>\n",
       "      <td>-0.357018</td>\n",
       "      <td>0.007893</td>\n",
       "      <td>0.241507</td>\n",
       "      <td>0.051652</td>\n",
       "      <td>0.214738</td>\n",
       "      <td>0.041428</td>\n",
       "      <td>0.076654</td>\n",
       "      <td>0.300216</td>\n",
       "      <td>0.282005</td>\n",
       "      <td>-0.239242</td>\n",
       "      <td>1.000000</td>\n",
       "    </tr>\n",
       "  </tbody>\n",
       "</table>\n",
       "</div>"
      ],
      "text/plain": [
       "                      Type_h    Type_t    Type_u     Rooms     Price  \\\n",
       "Type_h              1.000000 -0.484749 -0.778062  0.501128  0.391761   \n",
       "Type_t             -0.484749  1.000000 -0.172282 -0.040762 -0.095295   \n",
       "Type_u             -0.778062 -0.172282  1.000000 -0.535102 -0.372766   \n",
       "Rooms               0.501128 -0.040762 -0.535102  1.000000  0.502814   \n",
       "Price               0.391761 -0.095295 -0.372766  0.502814  1.000000   \n",
       "Postcode           -0.040504 -0.008546  0.051754  0.054676  0.136468   \n",
       "Bedroom2            0.484612 -0.037366 -0.518941  0.941684  0.480115   \n",
       "Bathroom            0.181773  0.108148 -0.282390  0.593847  0.462985   \n",
       "Car                 0.214175 -0.006836 -0.236298  0.401716  0.223552   \n",
       "Landsize            0.047422 -0.067257 -0.005103  0.085676  0.064029   \n",
       "BuildingArea        0.306231 -0.032396 -0.321614  0.547816  0.465598   \n",
       "YearBuilt          -0.402670  0.331105  0.215689 -0.030447 -0.330560   \n",
       "Lattitude           0.121254 -0.028636 -0.115991  0.012858 -0.224400   \n",
       "Longtitude         -0.040387  0.023603  0.028533  0.074846  0.184597   \n",
       "distance_to_toorak  0.221107 -0.014197 -0.238817  0.232836 -0.357018   \n",
       "\n",
       "                    Postcode  Bedroom2  Bathroom       Car  Landsize  \\\n",
       "Type_h             -0.040504  0.484612  0.181773  0.214175  0.047422   \n",
       "Type_t             -0.008546 -0.037366  0.108148 -0.006836 -0.067257   \n",
       "Type_u              0.051754 -0.518941 -0.282390 -0.236298 -0.005103   \n",
       "Rooms               0.054676  0.941684  0.593847  0.401716  0.085676   \n",
       "Price               0.136468  0.480115  0.462985  0.223552  0.064029   \n",
       "Postcode            1.000000  0.059311  0.122046  0.034698  0.014276   \n",
       "Bedroom2            0.059311  1.000000  0.594920  0.403840  0.083237   \n",
       "Bathroom            0.122046  0.594920  1.000000  0.322266  0.059483   \n",
       "Car                 0.034698  0.403840  0.322266  1.000000  0.100686   \n",
       "Landsize            0.014276  0.083237  0.059483  0.100686  1.000000   \n",
       "BuildingArea        0.089355  0.532910  0.470554  0.299613  0.063136   \n",
       "YearBuilt           0.035561 -0.010031  0.192470  0.153313  0.028638   \n",
       "Lattitude          -0.445625  0.019970 -0.068643 -0.007839  0.010734   \n",
       "Longtitude          0.471934  0.076236  0.109313  0.032915  0.013979   \n",
       "distance_to_toorak  0.007893  0.241507  0.051652  0.214738  0.041428   \n",
       "\n",
       "                    BuildingArea  YearBuilt  Lattitude  Longtitude  \\\n",
       "Type_h                  0.306231  -0.402670   0.121254   -0.040387   \n",
       "Type_t                 -0.032396   0.331105  -0.028636    0.023603   \n",
       "Type_u                 -0.321614   0.215689  -0.115991    0.028533   \n",
       "Rooms                   0.547816  -0.030447   0.012858    0.074846   \n",
       "Price                   0.465598  -0.330560  -0.224400    0.184597   \n",
       "Postcode                0.089355   0.035561  -0.445625    0.471934   \n",
       "Bedroom2                0.532910  -0.010031   0.019970    0.076236   \n",
       "Bathroom                0.470554   0.192470  -0.068643    0.109313   \n",
       "Car                     0.299613   0.153313  -0.007839    0.032915   \n",
       "Landsize                0.063136   0.028638   0.010734    0.013979   \n",
       "BuildingArea            1.000000   0.024754  -0.047501    0.084074   \n",
       "YearBuilt               0.024754   1.000000   0.052205    0.023062   \n",
       "Lattitude              -0.047501   0.052205   1.000000   -0.366331   \n",
       "Longtitude              0.084074   0.023062  -0.366331    1.000000   \n",
       "distance_to_toorak      0.076654   0.300216   0.282005   -0.239242   \n",
       "\n",
       "                    distance_to_toorak  \n",
       "Type_h                        0.221107  \n",
       "Type_t                       -0.014197  \n",
       "Type_u                       -0.238817  \n",
       "Rooms                         0.232836  \n",
       "Price                        -0.357018  \n",
       "Postcode                      0.007893  \n",
       "Bedroom2                      0.241507  \n",
       "Bathroom                      0.051652  \n",
       "Car                           0.214738  \n",
       "Landsize                      0.041428  \n",
       "BuildingArea                  0.076654  \n",
       "YearBuilt                     0.300216  \n",
       "Lattitude                     0.282005  \n",
       "Longtitude                   -0.239242  \n",
       "distance_to_toorak            1.000000  "
      ]
     },
     "execution_count": 7,
     "metadata": {},
     "output_type": "execute_result"
    }
   ],
   "source": [
    "df3.corr('pearson')"
   ]
  },
  {
   "cell_type": "markdown",
   "metadata": {},
   "source": [
    "## Q5 Create a linear regression model to predict home values\n",
    "Using the math in ESLII, section 3.2 equation (3.6) calculate $\\hat{\\beta}$\n",
    "\n",
    "We are going to create a linear regression model using our numeric attribute columns in `df3`, and specifying the home values (`Price` column) as the value we are trying to predict.  You may use numpy to do matrix calculations, but you may not use a built in regression library (for example, you may not use scikt-learn). \n",
    "\n",
    "The features you use to build the matrix $X$ should all be numeric and include the distance to Toorak and the one hot encodings. "
   ]
  },
  {
   "cell_type": "code",
   "execution_count": 8,
   "metadata": {},
   "outputs": [],
   "source": [
    "# Step one, build the matrix X\n",
    "df3 = df3.select_dtypes(np.number)\n",
    "X = df3.drop(columns='Price')\n",
    "X = pd.concat([pd.DataFrame({'intercept': np.ones(len(df3))}), X], axis=1)"
   ]
  },
  {
   "cell_type": "code",
   "execution_count": 9,
   "metadata": {},
   "outputs": [],
   "source": [
    "# Step two, build the column vector y\n",
    "y = df3['Price']"
   ]
  },
  {
   "cell_type": "code",
   "execution_count": 10,
   "metadata": {
    "scrolled": true
   },
   "outputs": [],
   "source": [
    "# Step three, find beta hat per the formula (3.6) (you should use the library we used in class)\n",
    "beta_hat, residuals, rank, s = np.linalg.lstsq(X,y,rcond=None)"
   ]
  },
  {
   "cell_type": "code",
   "execution_count": 11,
   "metadata": {},
   "outputs": [
    {
     "data": {
      "text/plain": [
       "668189.5555880725"
      ]
     },
     "execution_count": 11,
     "metadata": {},
     "output_type": "execute_result"
    }
   ],
   "source": [
    "# Test the model to see if we get something \"reasonable\" - i picked 23 at random \n",
    "np.matmul(X.iloc[23],beta_hat)"
   ]
  },
  {
   "cell_type": "code",
   "execution_count": 12,
   "metadata": {},
   "outputs": [
    {
     "data": {
      "text/plain": [
       "805000.0"
      ]
     },
     "execution_count": 12,
     "metadata": {},
     "output_type": "execute_result"
    }
   ],
   "source": [
    "# This is the actual price at this point\n",
    "y[23]"
   ]
  },
  {
   "cell_type": "markdown",
   "metadata": {},
   "source": [
    "## Q6 Apply the linear regression model to the test data and visualize the error\n",
    "We will cover other methods of evaluating any sort of prediction later, but for this week's exercise I have partitioned the data into two files.  Load the melb_data_sold_test.csv data set and use the $\\hat{\\beta}$ you calculated in the last step to predict the housing prices for data in melb_data_sold_test.  Create a visualization that shows the absolute error in your predictions. Remember to do all your data pre-processing on the data loaded from the melb_data_sold_test file before you apply beta_hat.  For the visualization, a histogram of the absolute error vs the total housing prices is sufficient.  Use [hist](https://matplotlib.org/3.3.3/api/_as_gen/matplotlib.pyplot.hist.html) for reference. \n",
    "\n",
    "While doing imputation, there are some helpful parameters in [fillna](https://pandas.pydata.org/pandas-docs/stable/reference/api/pandas.DataFrame.fillna.html). "
   ]
  },
  {
   "cell_type": "code",
   "execution_count": 13,
   "metadata": {},
   "outputs": [],
   "source": [
    "# Step zero, load the melb_data_sold_test.csv data for testing.  Use Imputation to fill in any missing numeric values\n",
    "# We use imputation here instead of deletion since we want a prediction for _every_ row in the test file.\n",
    "url2 = 'https://gist.githubusercontent.com/TieJean/e17178b1ffcb594dbf2232de90f8bb1f/raw/17c751b38a159b246321100188f35fa7cfb6c0b9/melb_data_sold_test.csv'\n",
    "df_f = pd.read_csv(url)\n",
    "df_f = df_f.fillna(method = 'bfill')"
   ]
  },
  {
   "cell_type": "code",
   "execution_count": 14,
   "metadata": {},
   "outputs": [],
   "source": [
    "# Step one, add the new attribute for the 'distance_to_toorak' and the one hot encoding to the new data frame\n",
    "df_f['distance_to_toorak'] = haversine_distance(toorak_pt, np.array([df_f['Lattitude'], df_f['Longtitude']]))\n",
    "dummy = pd.get_dummies(df_f['Type'], prefix='Type')\n",
    "removed = df_f.drop(columns=['Type'])\n",
    "X1 = pd.concat([dummy, removed], axis=1)\n",
    "df_f = X1"
   ]
  },
  {
   "cell_type": "code",
   "execution_count": 15,
   "metadata": {},
   "outputs": [],
   "source": [
    "# Step two, build the attribute matrix Xdot\n",
    "df_f = df_f.select_dtypes(np.number)\n",
    "Xdot = df_f.drop(columns='Price')\n",
    "Xdot = pd.concat([pd.DataFrame({'intercept': np.ones(len(df_f))}), Xdot], axis=1)"
   ]
  },
  {
   "cell_type": "code",
   "execution_count": 16,
   "metadata": {},
   "outputs": [],
   "source": [
    "# Step three, multiply Xdot by Beta hat. DO NOT USE A LOOP.  This is a vector of predicted prices\n",
    "# called y_hat in the notes\n",
    "df_f['Predicted'] = np.matmul(Xdot, beta_hat)"
   ]
  },
  {
   "cell_type": "code",
   "execution_count": 17,
   "metadata": {},
   "outputs": [],
   "source": [
    "# Step four, calculate the error vector, |actual price - predicted price|. We call this our \"absolute error\"\n",
    "abser = np.abs(df_f['Price']-df_f['Predicted'])"
   ]
  },
  {
   "cell_type": "code",
   "execution_count": 23,
   "metadata": {},
   "outputs": [
    {
     "data": {
      "text/plain": [
       "<matplotlib.legend.Legend at 0x7f926c915d00>"
      ]
     },
     "execution_count": 23,
     "metadata": {},
     "output_type": "execute_result"
    },
    {
     "data": {
      "image/png": "[encoded data removed]",
      "text/plain": [
       "<Figure size 640x480 with 1 Axes>"
      ]
     },
     "metadata": {},
     "output_type": "display_data"
    }
   ],
   "source": [
    "# Step five, create a histogram of the absolute error, and on the same plot create a histogram of the actual price.  \n",
    "# You should use the \"alpha\" parameter to make the graph on top slightly translucent \n",
    "plt.hist(abser, bins = 1000, alpha = 0.5, label = 'Absolute Error')\n",
    "plt.hist(df_f['Price'], bins = 1000, alpha = 0.5, color = 'pink', label = 'Actual Price')\n",
    "plt.xlim(0, max(y))\n",
    "plt.xlabel('Frequency')\n",
    "plt.ylabel('Data Values')\n",
    "plt.title('Absolute Error and Actual Price')\n",
    "plt.legend()"
   ]
  }
 ],
 "metadata": {
  "kernelspec": {
   "display_name": "Python 3 (ipykernel)",
   "language": "python",
   "name": "python3"
  },
  "language_info": {
   "codemirror_mode": {
    "name": "ipython",
    "version": 3
   },
   "file_extension": ".py",
   "mimetype": "text/x-python",
   "name": "python",
   "nbconvert_exporter": "python",
   "pygments_lexer": "ipython3",
   "version": "3.9.13"
  }
 },
 "nbformat": 4,
 "nbformat_minor": 4
}
