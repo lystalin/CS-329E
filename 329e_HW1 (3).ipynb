{
 "cells": [
  {
   "cell_type": "markdown",
   "metadata": {
    "id": "BoxpSMDOX1_y"
   },
   "source": [
    "# Homework 1\n",
    "\n",
    "## Pair Programming Group Number: FILL IN HERE\n",
    "## Members of Team: Jazmin Reyna, Zoe Neale\n",
    "\n",
    "\n",
    "### Data maniupuation and Visualization!\n",
    "\n",
    "In our first assignment you will practice manipuating and visualizing data from a real wold data set, Melbourne Australia home sales records. \n",
    "\n",
    "### The Data\n",
    "\n",
    "Was taken from a Kaggle competition, and came with the following descriptions:\n",
    "Content & Acknowledgements\n",
    "\n",
    "```\n",
    "This data was scraped from publicly available results posted every week from Domain.com.au, I've cleaned it as best I can, now it's up to you to make data analysis magic. The dataset includes Address, Type of Real estate, Suburb, Method of Selling, Rooms, Price, Real Estate Agent, Date of Sale and distance from C.B.D.\n",
    "\n",
    "….Now with extra data including including property size, land size and council area, you may need to change your code!\n",
    "\n",
    "Some Key Details\n",
    "Suburb: Suburb\n",
    "\n",
    "Address: Address\n",
    "\n",
    "Rooms: Number of rooms\n",
    "\n",
    "Price: Price in Australian dollars\n",
    "\n",
    "Method:\n",
    "S - property sold;\n",
    "SP - property sold prior;\n",
    "PI - property passed in;\n",
    "PN - sold prior not disclosed;\n",
    "SN - sold not disclosed;\n",
    "NB - no bid;\n",
    "VB - vendor bid;\n",
    "W - withdrawn prior to auction;\n",
    "SA - sold after auction;\n",
    "SS - sold after auction price not disclosed.\n",
    "N/A - price or highest bid not available.\n",
    "\n",
    "Type:\n",
    "br - bedroom(s);\n",
    "h - house,cottage,villa, semi,terrace;\n",
    "u - unit, duplex;\n",
    "t - townhouse;\n",
    "dev site - development site;\n",
    "o res - other residential.\n",
    "\n",
    "SellerG: Real Estate Agent\n",
    "\n",
    "Date: Date sold\n",
    "\n",
    "Distance: Distance from CBD in Kilometres\n",
    "\n",
    "Regionname: General Region (West, North West, North, North east …etc)\n",
    "\n",
    "Propertycount: Number of properties that exist in the suburb.\n",
    "\n",
    "Bedroom2 : Scraped # of Bedrooms (from different source)\n",
    "\n",
    "Bathroom: Number of Bathrooms\n",
    "\n",
    "Car: Number of carspots\n",
    "\n",
    "Landsize: Land Size in Metres\n",
    "\n",
    "BuildingArea: Building Size in Metres\n",
    "\n",
    "YearBuilt: Year the house was built\n",
    "\n",
    "CouncilArea: Governing council for the area\n",
    "\n",
    "Lattitude: Self explanitory\n",
    "\n",
    "Longtitude: Self explanitory\n",
    "```\n"
   ]
  },
  {
   "cell_type": "markdown",
   "metadata": {
    "id": "Xc3WoTIgX1_z"
   },
   "source": [
    "## Q1 - Loading Data\n",
    "Run the following code section to load dataset into a pandas DataFrame named `df`. If you need to look up other\n",
    "syntax on how to read csv files you can find it [here](https://pandas.pydata.org/docs/reference/api/pandas.read_csv.html)."
   ]
  },
  {
   "cell_type": "code",
   "execution_count": 1,
   "metadata": {
    "colab": {
     "base_uri": "https://localhost:8080/",
     "height": 343
    },
    "id": "meTTfqQNX1_0",
    "outputId": "c363dbf2-a018-43c1-bb4d-0062e4a6ee45"
   },
   "outputs": [],
   "source": [
    "# remember to type in your standard library import for pandas first\n",
    "import pandas as pd\n",
    "\n",
    "url = 'https://gist.githubusercontent.com/TieJean/ba718aac753c2f90e3d4e040d8f7d982/raw/2aca4164b087fa86721e877b4f1a6bd46d687035/melb_data.csv'\n",
    "\n",
    "# your code goes here - read the data from the URL \n",
    "df = pd.read_csv(url)\n",
    "# done"
   ]
  },
  {
   "cell_type": "markdown",
   "metadata": {
    "id": "w8oF--FrX1_0"
   },
   "source": [
    "## Q2 - How many unique suburbs are there?\n",
    "\n",
    "Are there any pandas DataFrame operations that can do this for you?\n",
    "\n",
    "[This](https://pandas.pydata.org/pandas-docs/stable/reference/api/pandas.Series.nunique.html) function might help. "
   ]
  },
  {
   "cell_type": "code",
   "execution_count": 2,
   "metadata": {
    "id": "hLKvAS0YX1_1"
   },
   "outputs": [
    {
     "data": {
      "text/plain": [
       "314"
      ]
     },
     "execution_count": 2,
     "metadata": {},
     "output_type": "execute_result"
    }
   ],
   "source": [
    "# code goes here\n",
    "df['Suburb'].nunique()\n",
    "# done"
   ]
  },
  {
   "cell_type": "markdown",
   "metadata": {
    "id": "e6X1RCrUX1_1"
   },
   "source": [
    "## Q3 - How many unique properties are there?\n",
    "\n",
    "If you forget the names of the columns you can always type:\n",
    "\n",
    "`df.columns` \n",
    "\n",
    "in a cell by itself to see this list of column names."
   ]
  },
  {
   "cell_type": "code",
   "execution_count": 3,
   "metadata": {
    "id": "ER7hBbf9X1_2"
   },
   "outputs": [
    {
     "data": {
      "text/plain": [
       "21"
      ]
     },
     "execution_count": 3,
     "metadata": {},
     "output_type": "execute_result"
    }
   ],
   "source": [
    "# code goes here\n",
    "# len(df.columns)\n",
    "df.columns.nunique() \n",
    "# df.head()\n",
    "# done"
   ]
  },
  {
   "cell_type": "markdown",
   "metadata": {
    "id": "BtVI3MNMX1_2"
   },
   "source": [
    "## Q4 - What is the mean price of a property in the Kensington suburb?\n",
    "\n",
    "You are getting the hang of reading the documentation!  Try finding the function\n",
    "for mean yourself at the [root page](https://pandas.pydata.org/pandas-docs/stable/index.html) of the documentation."
   ]
  },
  {
   "cell_type": "code",
   "execution_count": 4,
   "metadata": {
    "id": "Z9l57TjwX1_3"
   },
   "outputs": [
    {
     "data": {
      "text/plain": [
       "831667.4358974359"
      ]
     },
     "execution_count": 4,
     "metadata": {},
     "output_type": "execute_result"
    }
   ],
   "source": [
    "# code goes here\n",
    "df.groupby('Suburb')['Price'].mean()['Kensington']\n",
    "# done"
   ]
  },
  {
   "cell_type": "markdown",
   "metadata": {
    "id": "-8ZCoblfX1_4"
   },
   "source": [
    "## Q5 - What percentage of properties contain a YearBuilt value?"
   ]
  },
  {
   "cell_type": "code",
   "execution_count": 5,
   "metadata": {
    "id": "mRRvcWjQX1_4"
   },
   "outputs": [
    {
     "data": {
      "text/plain": [
       "60.41973490427098"
      ]
     },
     "execution_count": 5,
     "metadata": {},
     "output_type": "execute_result"
    }
   ],
   "source": [
    "# code goes here\n",
    "total_w_na = len(df['YearBuilt'])\n",
    "age_no_na = df[df['YearBuilt'].notna()]\n",
    "total_no_na = len(age_no_na['YearBuilt'])\n",
    "p_no_na = total_no_na/total_w_na\n",
    "p_no_na*100\n",
    "# done"
   ]
  },
  {
   "cell_type": "markdown",
   "metadata": {
    "id": "aiQCYn_IX1_4"
   },
   "source": [
    "## Q6 - Plot the Landsize as a histogram using 20 bins. Say something interesting about the graph.\n",
    "\n",
    "Matplotlib is [here](https://matplotlib.org/3.3.3/api/_as_gen/matplotlib.pyplot.hist.html) to help. \n",
    "\n",
    "In data visualization we discuss the \"Ink Ratio\" of creating graphics.  If you use the definalt bin sizes of the matplotlib histogram function, you will find that the histogram is not very informative.  Use the documentation to guide you to adjust the width of the bins in the histogram to make one _really_ wide bin on the right, and the rest of the bins equally distributed where most of the data resides. "
   ]
  },
  {
   "cell_type": "code",
   "execution_count": 6,
   "metadata": {
    "id": "Oo6vG_lMX1_5"
   },
   "outputs": [
    {
     "data": {
      "text/plain": [
       "(array([1.944e+03, 6.000e+00, 2.000e+00, ..., 0.000e+00, 0.000e+00,\n",
       "        1.000e+00]),\n",
       " array([0.0000e+00, 1.0000e+01, 2.0000e+01, ..., 4.3300e+05, 4.3301e+05,\n",
       "        4.3302e+05]),\n",
       " <BarContainer object of 43302 artists>)"
      ]
     },
     "execution_count": 6,
     "metadata": {},
     "output_type": "execute_result"
    },
    {
     "data": {
      "image/png": "[encoded data removed]",
      "text/plain": [
       "<Figure size 640x480 with 1 Axes>"
      ]
     },
     "metadata": {},
     "output_type": "display_data"
    }
   ],
   "source": [
    "# code goes here\n",
    "import matplotlib.pyplot as plt\n",
    "import numpy as np\n",
    "# df.hist(column = 'Landsize', bins = 20)\n",
    "# plt.hist(df['Landsize'], bins=np.arange(min(df['Landsize']), max(df['Landsize']) + 10, 10))\n",
    "# plt.hist(df['Landsize'],bins = [0,10,20,30,40,50,60,70])\n",
    "plt.hist(df['Landsize'], bins=np.arange(min(df['Landsize']), max(df['Landsize']) + 10, 10))\n",
    "\n",
    "# incomplete"
   ]
  },
  {
   "cell_type": "markdown",
   "metadata": {
    "id": "yd42RX90X1_5"
   },
   "source": [
    "## Q7 - Plot a scatter plot of price as a function of BuildingArea using only rows that have a valid BuildingArea value\n",
    "\n",
    "Break this down into slicing the DataFrame first, then creating the visualization.  There are both `plot` and `scatter` functions in the matplotlib library that can help here.  You'll notice there is more than one way to do a thing so much in computer science 😄\n",
    "\n",
    "If you have to change your axes and end up excluding some points to make the data more visible, then annotate the number of points excluded in the graph. "
   ]
  },
  {
   "cell_type": "code",
   "execution_count": 7,
   "metadata": {
    "id": "8rCVjyRkX1_5"
   },
   "outputs": [
    {
     "data": {
      "text/html": [
       "<div>\n",
       "<style scoped>\n",
       "    .dataframe tbody tr th:only-of-type {\n",
       "        vertical-align: middle;\n",
       "    }\n",
       "\n",
       "    .dataframe tbody tr th {\n",
       "        vertical-align: top;\n",
       "    }\n",
       "\n",
       "    .dataframe thead th {\n",
       "        text-align: right;\n",
       "    }\n",
       "</style>\n",
       "<table border=\"1\" class=\"dataframe\">\n",
       "  <thead>\n",
       "    <tr style=\"text-align: right;\">\n",
       "      <th></th>\n",
       "      <th>Suburb</th>\n",
       "      <th>Address</th>\n",
       "      <th>Rooms</th>\n",
       "      <th>Type</th>\n",
       "      <th>Price</th>\n",
       "      <th>Method</th>\n",
       "      <th>SellerG</th>\n",
       "      <th>Date</th>\n",
       "      <th>Distance</th>\n",
       "      <th>Postcode</th>\n",
       "      <th>...</th>\n",
       "      <th>Bathroom</th>\n",
       "      <th>Car</th>\n",
       "      <th>Landsize</th>\n",
       "      <th>BuildingArea</th>\n",
       "      <th>YearBuilt</th>\n",
       "      <th>CouncilArea</th>\n",
       "      <th>Lattitude</th>\n",
       "      <th>Longtitude</th>\n",
       "      <th>Regionname</th>\n",
       "      <th>Propertycount</th>\n",
       "    </tr>\n",
       "  </thead>\n",
       "  <tbody>\n",
       "    <tr>\n",
       "      <th>1</th>\n",
       "      <td>Abbotsford</td>\n",
       "      <td>25 Bloomburg St</td>\n",
       "      <td>2</td>\n",
       "      <td>h</td>\n",
       "      <td>1035000.0</td>\n",
       "      <td>S</td>\n",
       "      <td>Biggin</td>\n",
       "      <td>4/02/2016</td>\n",
       "      <td>2.5</td>\n",
       "      <td>3067.0</td>\n",
       "      <td>...</td>\n",
       "      <td>1.0</td>\n",
       "      <td>0.0</td>\n",
       "      <td>156.0</td>\n",
       "      <td>79.0</td>\n",
       "      <td>1900.0</td>\n",
       "      <td>Yarra</td>\n",
       "      <td>-37.80790</td>\n",
       "      <td>144.99340</td>\n",
       "      <td>Northern Metropolitan</td>\n",
       "      <td>4019.0</td>\n",
       "    </tr>\n",
       "    <tr>\n",
       "      <th>2</th>\n",
       "      <td>Abbotsford</td>\n",
       "      <td>5 Charles St</td>\n",
       "      <td>3</td>\n",
       "      <td>h</td>\n",
       "      <td>1465000.0</td>\n",
       "      <td>SP</td>\n",
       "      <td>Biggin</td>\n",
       "      <td>4/03/2017</td>\n",
       "      <td>2.5</td>\n",
       "      <td>3067.0</td>\n",
       "      <td>...</td>\n",
       "      <td>2.0</td>\n",
       "      <td>0.0</td>\n",
       "      <td>134.0</td>\n",
       "      <td>150.0</td>\n",
       "      <td>1900.0</td>\n",
       "      <td>Yarra</td>\n",
       "      <td>-37.80930</td>\n",
       "      <td>144.99440</td>\n",
       "      <td>Northern Metropolitan</td>\n",
       "      <td>4019.0</td>\n",
       "    </tr>\n",
       "    <tr>\n",
       "      <th>4</th>\n",
       "      <td>Abbotsford</td>\n",
       "      <td>55a Park St</td>\n",
       "      <td>4</td>\n",
       "      <td>h</td>\n",
       "      <td>1600000.0</td>\n",
       "      <td>VB</td>\n",
       "      <td>Nelson</td>\n",
       "      <td>4/06/2016</td>\n",
       "      <td>2.5</td>\n",
       "      <td>3067.0</td>\n",
       "      <td>...</td>\n",
       "      <td>1.0</td>\n",
       "      <td>2.0</td>\n",
       "      <td>120.0</td>\n",
       "      <td>142.0</td>\n",
       "      <td>2014.0</td>\n",
       "      <td>Yarra</td>\n",
       "      <td>-37.80720</td>\n",
       "      <td>144.99410</td>\n",
       "      <td>Northern Metropolitan</td>\n",
       "      <td>4019.0</td>\n",
       "    </tr>\n",
       "    <tr>\n",
       "      <th>6</th>\n",
       "      <td>Abbotsford</td>\n",
       "      <td>124 Yarra St</td>\n",
       "      <td>3</td>\n",
       "      <td>h</td>\n",
       "      <td>1876000.0</td>\n",
       "      <td>S</td>\n",
       "      <td>Nelson</td>\n",
       "      <td>7/05/2016</td>\n",
       "      <td>2.5</td>\n",
       "      <td>3067.0</td>\n",
       "      <td>...</td>\n",
       "      <td>2.0</td>\n",
       "      <td>0.0</td>\n",
       "      <td>245.0</td>\n",
       "      <td>210.0</td>\n",
       "      <td>1910.0</td>\n",
       "      <td>Yarra</td>\n",
       "      <td>-37.80240</td>\n",
       "      <td>144.99930</td>\n",
       "      <td>Northern Metropolitan</td>\n",
       "      <td>4019.0</td>\n",
       "    </tr>\n",
       "    <tr>\n",
       "      <th>7</th>\n",
       "      <td>Abbotsford</td>\n",
       "      <td>98 Charles St</td>\n",
       "      <td>2</td>\n",
       "      <td>h</td>\n",
       "      <td>1636000.0</td>\n",
       "      <td>S</td>\n",
       "      <td>Nelson</td>\n",
       "      <td>8/10/2016</td>\n",
       "      <td>2.5</td>\n",
       "      <td>3067.0</td>\n",
       "      <td>...</td>\n",
       "      <td>1.0</td>\n",
       "      <td>2.0</td>\n",
       "      <td>256.0</td>\n",
       "      <td>107.0</td>\n",
       "      <td>1890.0</td>\n",
       "      <td>Yarra</td>\n",
       "      <td>-37.80600</td>\n",
       "      <td>144.99540</td>\n",
       "      <td>Northern Metropolitan</td>\n",
       "      <td>4019.0</td>\n",
       "    </tr>\n",
       "    <tr>\n",
       "      <th>...</th>\n",
       "      <td>...</td>\n",
       "      <td>...</td>\n",
       "      <td>...</td>\n",
       "      <td>...</td>\n",
       "      <td>...</td>\n",
       "      <td>...</td>\n",
       "      <td>...</td>\n",
       "      <td>...</td>\n",
       "      <td>...</td>\n",
       "      <td>...</td>\n",
       "      <td>...</td>\n",
       "      <td>...</td>\n",
       "      <td>...</td>\n",
       "      <td>...</td>\n",
       "      <td>...</td>\n",
       "      <td>...</td>\n",
       "      <td>...</td>\n",
       "      <td>...</td>\n",
       "      <td>...</td>\n",
       "      <td>...</td>\n",
       "      <td>...</td>\n",
       "    </tr>\n",
       "    <tr>\n",
       "      <th>13572</th>\n",
       "      <td>Watsonia</td>\n",
       "      <td>76 Kenmare St</td>\n",
       "      <td>2</td>\n",
       "      <td>h</td>\n",
       "      <td>650000.0</td>\n",
       "      <td>PI</td>\n",
       "      <td>Morrison</td>\n",
       "      <td>26/08/2017</td>\n",
       "      <td>14.5</td>\n",
       "      <td>3087.0</td>\n",
       "      <td>...</td>\n",
       "      <td>1.0</td>\n",
       "      <td>1.0</td>\n",
       "      <td>210.0</td>\n",
       "      <td>79.0</td>\n",
       "      <td>2006.0</td>\n",
       "      <td>NaN</td>\n",
       "      <td>-37.70657</td>\n",
       "      <td>145.07878</td>\n",
       "      <td>Northern Metropolitan</td>\n",
       "      <td>2329.0</td>\n",
       "    </tr>\n",
       "    <tr>\n",
       "      <th>13573</th>\n",
       "      <td>Werribee</td>\n",
       "      <td>5 Nuragi Ct</td>\n",
       "      <td>4</td>\n",
       "      <td>h</td>\n",
       "      <td>635000.0</td>\n",
       "      <td>S</td>\n",
       "      <td>hockingstuart</td>\n",
       "      <td>26/08/2017</td>\n",
       "      <td>14.7</td>\n",
       "      <td>3030.0</td>\n",
       "      <td>...</td>\n",
       "      <td>2.0</td>\n",
       "      <td>1.0</td>\n",
       "      <td>662.0</td>\n",
       "      <td>172.0</td>\n",
       "      <td>1980.0</td>\n",
       "      <td>NaN</td>\n",
       "      <td>-37.89327</td>\n",
       "      <td>144.64789</td>\n",
       "      <td>Western Metropolitan</td>\n",
       "      <td>16166.0</td>\n",
       "    </tr>\n",
       "    <tr>\n",
       "      <th>13576</th>\n",
       "      <td>Williamstown</td>\n",
       "      <td>77 Merrett Dr</td>\n",
       "      <td>3</td>\n",
       "      <td>h</td>\n",
       "      <td>1031000.0</td>\n",
       "      <td>SP</td>\n",
       "      <td>Williams</td>\n",
       "      <td>26/08/2017</td>\n",
       "      <td>6.8</td>\n",
       "      <td>3016.0</td>\n",
       "      <td>...</td>\n",
       "      <td>2.0</td>\n",
       "      <td>2.0</td>\n",
       "      <td>333.0</td>\n",
       "      <td>133.0</td>\n",
       "      <td>1995.0</td>\n",
       "      <td>NaN</td>\n",
       "      <td>-37.85927</td>\n",
       "      <td>144.87904</td>\n",
       "      <td>Western Metropolitan</td>\n",
       "      <td>6380.0</td>\n",
       "    </tr>\n",
       "    <tr>\n",
       "      <th>13578</th>\n",
       "      <td>Williamstown</td>\n",
       "      <td>96 Verdon St</td>\n",
       "      <td>4</td>\n",
       "      <td>h</td>\n",
       "      <td>2500000.0</td>\n",
       "      <td>PI</td>\n",
       "      <td>Sweeney</td>\n",
       "      <td>26/08/2017</td>\n",
       "      <td>6.8</td>\n",
       "      <td>3016.0</td>\n",
       "      <td>...</td>\n",
       "      <td>1.0</td>\n",
       "      <td>5.0</td>\n",
       "      <td>866.0</td>\n",
       "      <td>157.0</td>\n",
       "      <td>1920.0</td>\n",
       "      <td>NaN</td>\n",
       "      <td>-37.85908</td>\n",
       "      <td>144.89299</td>\n",
       "      <td>Western Metropolitan</td>\n",
       "      <td>6380.0</td>\n",
       "    </tr>\n",
       "    <tr>\n",
       "      <th>13579</th>\n",
       "      <td>Yarraville</td>\n",
       "      <td>6 Agnes St</td>\n",
       "      <td>4</td>\n",
       "      <td>h</td>\n",
       "      <td>1285000.0</td>\n",
       "      <td>SP</td>\n",
       "      <td>Village</td>\n",
       "      <td>26/08/2017</td>\n",
       "      <td>6.3</td>\n",
       "      <td>3013.0</td>\n",
       "      <td>...</td>\n",
       "      <td>1.0</td>\n",
       "      <td>1.0</td>\n",
       "      <td>362.0</td>\n",
       "      <td>112.0</td>\n",
       "      <td>1920.0</td>\n",
       "      <td>NaN</td>\n",
       "      <td>-37.81188</td>\n",
       "      <td>144.88449</td>\n",
       "      <td>Western Metropolitan</td>\n",
       "      <td>6543.0</td>\n",
       "    </tr>\n",
       "  </tbody>\n",
       "</table>\n",
       "<p>7130 rows × 21 columns</p>\n",
       "</div>"
      ],
      "text/plain": [
       "             Suburb          Address  Rooms Type      Price Method  \\\n",
       "1        Abbotsford  25 Bloomburg St      2    h  1035000.0      S   \n",
       "2        Abbotsford     5 Charles St      3    h  1465000.0     SP   \n",
       "4        Abbotsford      55a Park St      4    h  1600000.0     VB   \n",
       "6        Abbotsford     124 Yarra St      3    h  1876000.0      S   \n",
       "7        Abbotsford    98 Charles St      2    h  1636000.0      S   \n",
       "...             ...              ...    ...  ...        ...    ...   \n",
       "13572      Watsonia    76 Kenmare St      2    h   650000.0     PI   \n",
       "13573      Werribee      5 Nuragi Ct      4    h   635000.0      S   \n",
       "13576  Williamstown    77 Merrett Dr      3    h  1031000.0     SP   \n",
       "13578  Williamstown     96 Verdon St      4    h  2500000.0     PI   \n",
       "13579    Yarraville       6 Agnes St      4    h  1285000.0     SP   \n",
       "\n",
       "             SellerG        Date  Distance  Postcode  ...  Bathroom  Car  \\\n",
       "1             Biggin   4/02/2016       2.5    3067.0  ...       1.0  0.0   \n",
       "2             Biggin   4/03/2017       2.5    3067.0  ...       2.0  0.0   \n",
       "4             Nelson   4/06/2016       2.5    3067.0  ...       1.0  2.0   \n",
       "6             Nelson   7/05/2016       2.5    3067.0  ...       2.0  0.0   \n",
       "7             Nelson   8/10/2016       2.5    3067.0  ...       1.0  2.0   \n",
       "...              ...         ...       ...       ...  ...       ...  ...   \n",
       "13572       Morrison  26/08/2017      14.5    3087.0  ...       1.0  1.0   \n",
       "13573  hockingstuart  26/08/2017      14.7    3030.0  ...       2.0  1.0   \n",
       "13576       Williams  26/08/2017       6.8    3016.0  ...       2.0  2.0   \n",
       "13578        Sweeney  26/08/2017       6.8    3016.0  ...       1.0  5.0   \n",
       "13579        Village  26/08/2017       6.3    3013.0  ...       1.0  1.0   \n",
       "\n",
       "       Landsize  BuildingArea  YearBuilt  CouncilArea Lattitude  Longtitude  \\\n",
       "1         156.0          79.0     1900.0        Yarra -37.80790   144.99340   \n",
       "2         134.0         150.0     1900.0        Yarra -37.80930   144.99440   \n",
       "4         120.0         142.0     2014.0        Yarra -37.80720   144.99410   \n",
       "6         245.0         210.0     1910.0        Yarra -37.80240   144.99930   \n",
       "7         256.0         107.0     1890.0        Yarra -37.80600   144.99540   \n",
       "...         ...           ...        ...          ...       ...         ...   \n",
       "13572     210.0          79.0     2006.0          NaN -37.70657   145.07878   \n",
       "13573     662.0         172.0     1980.0          NaN -37.89327   144.64789   \n",
       "13576     333.0         133.0     1995.0          NaN -37.85927   144.87904   \n",
       "13578     866.0         157.0     1920.0          NaN -37.85908   144.89299   \n",
       "13579     362.0         112.0     1920.0          NaN -37.81188   144.88449   \n",
       "\n",
       "                  Regionname Propertycount  \n",
       "1      Northern Metropolitan        4019.0  \n",
       "2      Northern Metropolitan        4019.0  \n",
       "4      Northern Metropolitan        4019.0  \n",
       "6      Northern Metropolitan        4019.0  \n",
       "7      Northern Metropolitan        4019.0  \n",
       "...                      ...           ...  \n",
       "13572  Northern Metropolitan        2329.0  \n",
       "13573   Western Metropolitan       16166.0  \n",
       "13576   Western Metropolitan        6380.0  \n",
       "13578   Western Metropolitan        6380.0  \n",
       "13579   Western Metropolitan        6543.0  \n",
       "\n",
       "[7130 rows x 21 columns]"
      ]
     },
     "execution_count": 7,
     "metadata": {},
     "output_type": "execute_result"
    }
   ],
   "source": [
    "# code goes here\n",
    "BA_no_na = df[df['BuildingArea'].notna()]\n",
    "BA_no_na\n",
    "# plt.scatter([1, 2, 3, 4, 5], BA_no_na['BuildingArea'])\n",
    "# BA_no_na.plot.scatter(x='BuildingArea', y='Address')\n",
    "\n",
    "# incomplete"
   ]
  },
  {
   "cell_type": "markdown",
   "metadata": {
    "id": "JBJ-e7kXX1_6"
   },
   "source": [
    "## Q8 - List the top 10 SellerG, and what percentage of properties they have listed \n",
    "\n",
    "I'm going to assume that the SellerG column is the name of the seller group, so \"realtor\" in US parlance.  So, that column is interpreted as the seller that listed the property.\n",
    "\n",
    "Check out the function `value_counts` in pandas documentation. "
   ]
  },
  {
   "cell_type": "code",
   "execution_count": 8,
   "metadata": {
    "id": "UgG7EEkMX1_6"
   },
   "outputs": [
    {
     "data": {
      "text/plain": [
       "Nelson           1565\n",
       "Jellis           1316\n",
       "hockingstuart    1167\n",
       "Barry            1011\n",
       "Ray               701\n",
       "Marshall          659\n",
       "Buxton            632\n",
       "Biggin            393\n",
       "Brad              342\n",
       "Fletchers         301\n",
       "Name: SellerG, dtype: int64"
      ]
     },
     "execution_count": 8,
     "metadata": {},
     "output_type": "execute_result"
    }
   ],
   "source": [
    "# code goes here\n",
    "df['SellerG'].value_counts().head(10)\n",
    "\n",
    "# done"
   ]
  },
  {
   "cell_type": "markdown",
   "metadata": {
    "id": "5MBx3GOSX1_6"
   },
   "source": [
    "## Q9 - Fix a problem\n",
    "Your boss has told you that the number of rooms was calculated incorrectly systematically across the entire data set.  Add one room to the Rooms column using two methods:\n",
    "\n",
    " - a for loop, and\n",
    " - using a single statement\n",
    " \n",
    "Save those DataFrames into the variables `df1` and `df2`.  (We don't use these again, for the next questions just continue using `df`)\n",
    "\n",
    "Watch out that you don't accidentally change the original DataFrame using a shallow copy."
   ]
  },
  {
   "cell_type": "code",
   "execution_count": 12,
   "metadata": {
    "id": "r0ShZHNWX1_6"
   },
   "outputs": [],
   "source": [
    "# code goes here\n",
    "\n",
    "\n",
    "# incomplete"
   ]
  },
  {
   "cell_type": "markdown",
   "metadata": {
    "id": "FygRoLlQX1_6"
   },
   "source": [
    "## Q10- What is the Address of the earliest built house in the data set?\n",
    "\n",
    "This will exercise your DataFrame slicing ability. "
   ]
  },
  {
   "cell_type": "code",
   "execution_count": 10,
   "metadata": {
    "id": "82HQO9rUX1_7"
   },
   "outputs": [
    {
     "data": {
      "text/plain": [
       "9968    5 Armstrong St\n",
       "Name: Address, dtype: object"
      ]
     },
     "execution_count": 10,
     "metadata": {},
     "output_type": "execute_result"
    }
   ],
   "source": [
    "# code goes here\n",
    "# q = df.groupby('YearBuilt').min()\n",
    "# q.iloc[0]['Address']\n",
    "s = df['YearBuilt'].min()\n",
    "df.loc[df['YearBuilt'] <= s]['Address']\n",
    "# h = df['YearBuilt'].min()\n",
    "# h.iloc[0]['Address']\n",
    "\n",
    "# done"
   ]
  },
  {
   "cell_type": "markdown",
   "metadata": {
    "id": "4N996VLjX1_7"
   },
   "source": [
    "## Q11 - Save a file \n",
    "\n",
    "The council member for Melbourne has asked for the information for their district.  Assume that there are legal restrcitions and we can only provide the council member the Suburb, Price, and Date from the CouncilArea \"Melbourne\" to the council person.  Export the file with only the allowed columns, and do not write and index column.\n",
    "\n",
    "The other half of `read_csv`, is `to_csv`.  Make sure you follow the documentation and only include the columns asked for in the output."
   ]
  },
  {
   "cell_type": "code",
   "execution_count": 11,
   "metadata": {
    "id": "MM_CwR9tX1_7"
   },
   "outputs": [],
   "source": [
    "# code goes here\n",
    "# out = df[['Suburb','Price','Date','CouncilArea']]\n",
    "df_melb = df[ df['CouncilArea'] == 'Melbourne']\n",
    "df_melb2 = df_melb[['Suburb','Price','Date']]\n",
    "# df_melb2.to_csv(index=False)\n",
    "\n",
    "# incomplete"
   ]
  },
  {
   "cell_type": "code",
   "execution_count": null,
   "metadata": {},
   "outputs": [],
   "source": []
  }
 ],
 "metadata": {
  "colab": {
   "collapsed_sections": [],
   "name": "329e_HW1.ipynb",
   "provenance": []
  },
  "kernelspec": {
   "display_name": "Python 3 (ipykernel)",
   "language": "python",
   "name": "python3"
  },
  "language_info": {
   "codemirror_mode": {
    "name": "ipython",
    "version": 3
   },
   "file_extension": ".py",
   "mimetype": "text/x-python",
   "name": "python",
   "nbconvert_exporter": "python",
   "pygments_lexer": "ipython3",
   "version": "3.9.13"
  }
 },
 "nbformat": 4,
 "nbformat_minor": 1
}
