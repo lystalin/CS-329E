{
 "cells": [
  {
   "cell_type": "markdown",
   "metadata": {},
   "source": [
    "## C S 329E HW 7\n",
    "\n",
    "# Naive Bayes \n",
    "\n",
    "## Jazmin Reyna\n",
    "\n",
    "For this week's homework we are going explore one new classification technique:\n",
    "\n",
    "  - Naive Bayes\n",
    "\n",
    "We are reusing the version of the Melbourne housing data set from HW6, to predict the housing type as one of three possible categories:\n",
    "\n",
    "  - 'h' house\n",
    "  - 'u' duplex\n",
    "  - 't' townhouse\n",
    "\n",
    "In addition to building our own Naive Bayes classifier, we are going to compare the performace of our classifier to the [Gaussian Naive Bayes Classifier](https://scikit-learn.org/stable/modules/naive_bayes.html#gaussian-naive-bayes) available in the scikit-learn library. "
   ]
  },
  {
   "cell_type": "code",
   "execution_count": 1,
   "metadata": {},
   "outputs": [],
   "source": [
    "# These are the libraries you will use for this assignment\n",
    "import pandas as pd\n",
    "import numpy as np\n",
    "import matplotlib.pyplot as plt\n",
    "import time\n",
    "import calendar\n",
    "from sklearn.naive_bayes import GaussianNB # The only thing in scikit-learn you can use this assignment\n",
    "\n",
    "# Starting off loading a training set and setting a variable for the target column, \"Type\"\n",
    "df_melb = pd.read_csv('https://gist.githubusercontent.com/yanyanzheng96/81b236aecee57f6cf65e60afd865d2bb/raw/56ddb53aa90c26ab1bdbfd0b8d8229c8d08ce45a/melb_data_train.csv')\n",
    "target_col = 'Type'"
   ]
  },
  {
   "cell_type": "markdown",
   "metadata": {},
   "source": [
    "## Q1 - Fix a column of data to be numeric\n",
    "If we inspect our dataframe, `df_melb` using the `dtypes` method, we see that the column \"Date\" is an object.  However, we think this column might contain useful information so we want to convert it to [seconds since epoch](https://en.wikipedia.org/wiki/Unix_time). Use only the exiting imported libraries to create a new column \"unixtime\". Be careful, the date strings in the file might have some non-uniform formating that you have to fix first.  Print out the min and max epoch time to check your work.  Drop the original \"Date\" column. \n",
    "\n",
    "THESE ARE THE EXACT SAME INSTRUCTIONS FROM HW6! Please take this opportunity to reuse your code (if you got it right last time). "
   ]
  },
  {
   "cell_type": "code",
   "execution_count": 2,
   "metadata": {},
   "outputs": [],
   "source": [
    "# normalize date accepts the date string as shown in the df_melb 'Date' column,\n",
    "# and returns a data in a standarized format\n",
    "def standardize_date(d):\n",
    "    string = d.split('/')\n",
    "    for i in range(0,3):\n",
    "        if i != 2:\n",
    "            if len(string[i]) < 2:\n",
    "                string[i] = '0' + string[i]\n",
    "        else:\n",
    "            if len(string[i]) < 4:\n",
    "                string[i] = '20' + string[i]\n",
    "    space = ''\n",
    "    new_date = space + string[0] + '/' + string[1] + '/' + string[2]\n",
    "    return time.strptime(new_date, '%d/%m/%Y')\n"
   ]
  },
  {
   "cell_type": "code",
   "execution_count": 3,
   "metadata": {},
   "outputs": [],
   "source": [
    "df_melb['Date'] = df_melb['Date'].apply( standardize_date )\n",
    "df_melb['unixtime'] = df_melb['Date'].apply( lambda x : calendar.timegm(x))\n",
    "df_melb = df_melb.drop(columns=\"Date\")\n"
   ]
  },
  {
   "cell_type": "markdown",
   "metadata": {},
   "source": [
    "## Q2 Calculating the prior probabilities\n",
    "Calculate the prior probabilities for each possible \"Type\" in `df_melb` and populate a dictionary, `dict_priors`, where the key is the possible \"Type\" values and the value is the prior probabilities. Show the dictionary. Do not hardcode the possible values of \"Type\".  Don't forget about [value counts](https://pandas.pydata.org/docs/reference/api/pandas.Series.value_counts.html). "
   ]
  },
  {
   "cell_type": "code",
   "execution_count": 4,
   "metadata": {},
   "outputs": [
    {
     "data": {
      "text/plain": [
       "{'h': 0.452, 'u': 0.418, 't': 0.13}"
      ]
     },
     "execution_count": 4,
     "metadata": {},
     "output_type": "execute_result"
    }
   ],
   "source": [
    "dict_priors = {}\n",
    "\n",
    "types = (df_melb.Type.value_counts(normalize = True))\n",
    "count = 0\n",
    "for i in types.keys():\n",
    "    dict_priors[i] = types[count]\n",
    "    count += 1\n",
    "    \n",
    "dict_priors"
   ]
  },
  {
   "cell_type": "markdown",
   "metadata": {},
   "source": [
    "## Q3 Create a model for the distribution of all of the numeric attributes\n",
    "For each class, and for each attribute calculate the sample mean and sample standard deviation.  You should store the model in a nested dictionary, `dict_nb_model`, such that `dict_nb_model['h']['Rooms']` is a tuple containing the mean and standard deviation for the target Type 'h' and the attribute 'Rooms'.  Show the model using the `display` function. You should ignore entries that are `NaN` in the mean and [standard deviation](https://pandas.pydata.org/docs/reference/api/pandas.Series.std.html) calculation. "
   ]
  },
  {
   "cell_type": "code",
   "execution_count": 5,
   "metadata": {},
   "outputs": [],
   "source": [
    "dict_nb_model = dict()\n",
    "\n",
    "for target in dict_priors.keys():\n",
    "    dict_nb_model[target] = {}\n",
    "    df_type = df_melb[df_melb['Type'] == target]\n",
    "    for col in df_type.columns:\n",
    "        if col != 'Type':\n",
    "            dict_nb_model[target][col] = (df_type[col].mean(skipna=True), df_type[col].std(skipna=True))"
   ]
  },
  {
   "cell_type": "code",
   "execution_count": 6,
   "metadata": {},
   "outputs": [
    {
     "data": {
      "text/plain": [
       "{'h': {'Rooms': (3.269911504424779, 0.7258264201127756),\n",
       "  'Price': (1189022.3451327435, 586296.5794417895),\n",
       "  'Distance': (12.086725663716809, 7.397501132737295),\n",
       "  'Postcode': (3103.8982300884954, 98.35750345419703),\n",
       "  'Bathroom': (1.5619469026548674, 0.6720871086493075),\n",
       "  'Car': (1.7777777777777777, 0.932759177140425),\n",
       "  'Landsize': (932.9646017699115, 3830.7934157687164),\n",
       "  'BuildingArea': (156.24339622641511, 54.62662837301434),\n",
       "  'YearBuilt': (1954.900826446281, 32.461876347154686),\n",
       "  'unixtime': (1485717578.761062, 13838562.050601462)},\n",
       " 'u': {'Rooms': (2.0430622009569377, 0.5908453859944267),\n",
       "  'Price': (634207.1770334928, 217947.32866736987),\n",
       "  'Distance': (8.760287081339715, 5.609778714430755),\n",
       "  'Postcode': (3120.4545454545455, 87.18475679946482),\n",
       "  'Bathroom': (1.1818181818181819, 0.42228151548662185),\n",
       "  'Car': (1.1483253588516746, 0.47231993860296956),\n",
       "  'Landsize': (436.23444976076553, 1394.3403794653254),\n",
       "  'BuildingArea': (83.85585585585585, 45.959438015166604),\n",
       "  'YearBuilt': (1976.451388888889, 24.557291330642666),\n",
       "  'unixtime': (1484176719.617225, 13494566.111289721)},\n",
       " 't': {'Rooms': (2.9076923076923076, 0.6052653582075831),\n",
       "  'Price': (1000169.2307692308, 421822.5363389935),\n",
       "  'Distance': (10.766153846153845, 4.870455475462387),\n",
       "  'Postcode': (3121.6153846153848, 100.01588816090862),\n",
       "  'Bathroom': (1.8461538461538463, 0.565430401076506),\n",
       "  'Car': (1.6923076923076923, 0.5280588545286915),\n",
       "  'Landsize': (268.18461538461537, 276.57700624711265),\n",
       "  'BuildingArea': (138.66666666666666, 53.498637054290135),\n",
       "  'YearBuilt': (1997.0227272727273, 16.99177453038181),\n",
       "  'unixtime': (1486525292.3076923, 12640127.60987191)}}"
      ]
     },
     "metadata": {},
     "output_type": "display_data"
    }
   ],
   "source": [
    "display(dict_nb_model)"
   ]
  },
  {
   "cell_type": "markdown",
   "metadata": {},
   "source": [
    "## Q4 Write a function that calculates the probability of a Gaussian\n",
    "Given the mean ($\\mu$), standard deviation ($\\sigma$), and a observed point, `x`, return the probability.  \n",
    "Use the formula $p(x) = \\frac{1}{\\sigma \\sqrt{2 \\pi}} e^{-\\frac{1}{2}(\\frac{x-\\mu}{\\sigma})^2}$ ([wiki](https://en.wikipedia.org/wiki/Normal_distribution)).  You should use [numpy's exp](https://numpy.org/doc/stable/reference/generated/numpy.exp.html) function in your solution. "
   ]
  },
  {
   "cell_type": "code",
   "execution_count": 7,
   "metadata": {},
   "outputs": [],
   "source": [
    "def get_p( mu, sigma, x):\n",
    "    d = (sigma*(np.sqrt(2*np.pi)))\n",
    "    e = (-(1/2)*(((x - mu)/sigma)**2))\n",
    "    return (1/d)*np.exp(e)"
   ]
  },
  {
   "cell_type": "code",
   "execution_count": 8,
   "metadata": {},
   "outputs": [
    {
     "data": {
      "text/plain": [
       "0.19333405840142462"
      ]
     },
     "execution_count": 8,
     "metadata": {},
     "output_type": "execute_result"
    }
   ],
   "source": [
    "# Test it. You should get a value of 0.19333405840142462\n",
    "p = get_p( 0, 2, 0.5)\n",
    "p"
   ]
  },
  {
   "cell_type": "markdown",
   "metadata": {},
   "source": [
    "## Q5 Write the Naive Bayes classifier function\n",
    "The Naive Bayes classifier function, `nb_class`, should take as a parameter the prior probability dictionary. `dict_priors`, the dictionary containing all of the gaussian distribution information for each attribue, `dict_nb_model`, and a single observation row (a series generated from iterrows) of the test dataframe. It should return a single target classification. For this problem, all of our attributes are numeric and modeled as Gaussians, so we don't worry about categorical data. Make sure to skip attributes that do not have a value in the observation.  Do not hardcode the possible classification types. "
   ]
  },
  {
   "cell_type": "code",
   "execution_count": 9,
   "metadata": {},
   "outputs": [],
   "source": [
    "def nb_class( dict_priors, dict_nb_model, observation):\n",
    "    # your code here  \n",
    "    probs = {}\n",
    "    for i,j in dict_priors.items():\n",
    "        p = j\n",
    "        for k in observation.keys():\n",
    "            if k != 'Type':\n",
    "                if np.isnan(observation[k]) == False:\n",
    "                    cond = get_p(dict_nb_model[i][k][0], dict_nb_model[i][k][1], observation[k])\n",
    "                    p *= cond\n",
    "        probs[i] = p\n",
    "    return max(probs, key = probs.get)\n",
    "        "
   ]
  },
  {
   "cell_type": "markdown",
   "metadata": {},
   "source": [
    "## Q6 Calculate the accuracy using Naive Bayes classifier function on the test set\n",
    "Load the test set from file, convert date to unix time and drop the date column, classify each row using your `nb_class`, and then show the accuracy on the test set. "
   ]
  },
  {
   "cell_type": "code",
   "execution_count": 10,
   "metadata": {},
   "outputs": [],
   "source": [
    "df_test = pd.read_csv('https://gist.githubusercontent.com/yanyanzheng96/c3d53303cebbd986b166591d19254bac/raw/94eb3b2d500d5f7bbc0441a8419cd855349d5d8e/melb_data_test.csv')\n",
    "df_test['Date'] = df_test['Date'].apply( standardize_date )\n",
    "df_test['unixtime'] = df_test['Date'].apply( lambda x : calendar.timegm(x))\n",
    "df_test = df_test.drop(columns=\"Date\")"
   ]
  },
  {
   "cell_type": "code",
   "execution_count": 11,
   "metadata": {},
   "outputs": [],
   "source": [
    "predictions = []\n",
    "\n",
    "for (indx,row) in df_test.iterrows():\n",
    "    predictions.append(nb_class(dict_priors, dict_nb_model, row))"
   ]
  },
  {
   "cell_type": "code",
   "execution_count": 12,
   "metadata": {},
   "outputs": [],
   "source": [
    "acc = np.sum(df_test['Type'] == predictions)/len(df_test['Type']) # your code here"
   ]
  },
  {
   "cell_type": "code",
   "execution_count": 13,
   "metadata": {},
   "outputs": [
    {
     "name": "stdout",
     "output_type": "stream",
     "text": [
      "Accuracy is 57.00%\n"
     ]
    }
   ],
   "source": [
    "# You should get and accuracy of 57.00%\n",
    "print('Accuracy is {:.2f}%'.format(acc*100))"
   ]
  },
  {
   "cell_type": "markdown",
   "metadata": {},
   "source": [
    "## Use scikit-learn to do the same thing!\n",
    "\n",
    "Now we understand the inner workings of the Naive Bayes algorithm, let's compare our results to [scikit-learn's Naive Bayes](https://scikit-learn.org/stable/modules/naive_bayes.html) implementation. Use the [GaussianNB](https://scikit-learn.org/stable/modules/naive_bayes.html#gaussian-naive-bayes) to train using the `df_melb`dataframe and test using the `df_test` dataframe. Remember to split `df_melb` into a `df_X` with the numerical attributes, and a `s_y` with the target column. On the `df_melb` frame you will have to fill the empty attributes via imputation since the scikit-learn library can not handle missing values.  Use the same method you used in the last homework (filling the training data with the mean of the non-nan values). \n",
    "\n",
    "Answer the following in a markdown cell: do you think imputation hurt or helped the classifier?"
   ]
  },
  {
   "cell_type": "code",
   "execution_count": 14,
   "metadata": {},
   "outputs": [],
   "source": [
    "# Imputation training\n",
    "dict_imputation = dict()\n",
    "\n",
    "for col in df_melb.columns:\n",
    "    if col != 'Type':\n",
    "        dict_imputation[col] = df_melb[col].mean()\n",
    "        df_melb[col].fillna(value = df_melb[col].mean(), inplace=True)      \n",
    "\n",
    "# Imputation - apply on the test data\n",
    "for col in df_test.columns:\n",
    "    if col != 'Type':\n",
    "        df_test[col].fillna(value = dict_imputation[col], inplace=True)\n",
    "        \n",
    "# Seperate the attributes from the target_col\n",
    "s_y = df_melb['Type']\n",
    "df_X = df_melb.drop(columns = 'Type')"
   ]
  },
  {
   "cell_type": "code",
   "execution_count": 15,
   "metadata": {},
   "outputs": [],
   "source": [
    "gnb = GaussianNB()\n",
    "\n",
    "gnb.fit(df_X, s_y)\n",
    "\n",
    "p_test = gnb.predict(df_test.drop(columns = 'Type'))"
   ]
  },
  {
   "cell_type": "code",
   "execution_count": 16,
   "metadata": {},
   "outputs": [
    {
     "name": "stdout",
     "output_type": "stream",
     "text": [
      "Accuracy is 37.00%\n"
     ]
    }
   ],
   "source": [
    "acc = np.sum(df_test['Type'] == p_test)/len(df_test['Type'])# your code here\n",
    "print('Accuracy is {:.2f}%'.format(acc*100))"
   ]
  },
  {
   "cell_type": "markdown",
   "metadata": {},
   "source": [
    "## I believe imputation hurt the classifier as the accuracy is now much lower"
   ]
  }
 ],
 "metadata": {
  "kernelspec": {
   "display_name": "Python 3 (ipykernel)",
   "language": "python",
   "name": "python3"
  },
  "language_info": {
   "codemirror_mode": {
    "name": "ipython",
    "version": 3
   },
   "file_extension": ".py",
   "mimetype": "text/x-python",
   "name": "python",
   "nbconvert_exporter": "python",
   "pygments_lexer": "ipython3",
   "version": "3.9.13"
  }
 },
 "nbformat": 4,
 "nbformat_minor": 4
}
